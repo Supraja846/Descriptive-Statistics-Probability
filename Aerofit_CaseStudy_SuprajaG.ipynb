{
  "cells": [
    {
      "cell_type": "markdown",
      "metadata": {
        "id": "FvE1HJPiPfap"
      },
      "source": [
        "# **AEROFIT CASESTUDY**"
      ]
    },
    {
      "cell_type": "markdown",
      "metadata": {
        "id": "mKnlb5EEEFED"
      },
      "source": [
        "**PROBLEM STATEMENT**\n",
        "\n",
        "AeroFit wants to identify the characteristics of the target audience for each type of treadmill offered by the company, to provide a better recommendation of the treadmills to the new customers."
      ]
    },
    {
      "cell_type": "markdown",
      "metadata": {
        "id": "1TwbK2fDEYc2"
      },
      "source": [
        "**About Aerofit**\n",
        "\n",
        "Aerofit is a leading brand in the field of fitness equipment. Aerofit provides a product range including machines such as treadmills, exercise bikes, gym equipment, and fitness accessories to cater to the needs of all categories of people."
      ]
    },
    {
      "cell_type": "markdown",
      "metadata": {
        "id": "yAQo-zPJEj0c"
      },
      "source": [
        "Dataset_Link: [aerofit_dataset](https://d2beiqkhq929f0.cloudfront.net/public_assets/assets/000/001/125/original/aerofit_treadmill.csv)"
      ]
    },
    {
      "cell_type": "code",
      "execution_count": null,
      "metadata": {
        "colab": {
          "background_save": true,
          "base_uri": "https://localhost:8080/"
        },
        "id": "sKxPpvojPUAb",
        "outputId": "6063ac82-fdc8-4046-92f1-8753da41a9b8"
      },
      "outputs": [
        {
          "name": "stdout",
          "output_type": "stream",
          "text": [
            "--2025-02-18 10:10:48--  https://d2beiqkhq929f0.cloudfront.net/public_assets/assets/000/001/125/original/aerofit_treadmill.csv\n",
            "Resolving d2beiqkhq929f0.cloudfront.net (d2beiqkhq929f0.cloudfront.net)... 18.64.229.135, 18.64.229.172, 18.64.229.71, ...\n",
            "Connecting to d2beiqkhq929f0.cloudfront.net (d2beiqkhq929f0.cloudfront.net)|18.64.229.135|:443... connected.\n",
            "HTTP request sent, awaiting response... 200 OK\n",
            "Length: 7279 (7.1K) [text/plain]\n",
            "Saving to: ‘aerofit_treadmill.csv.4’\n",
            "\n",
            "\raerofit_treadmill.c   0%[                    ]       0  --.-KB/s               \raerofit_treadmill.c 100%[===================>]   7.11K  --.-KB/s    in 0s      \n",
            "\n",
            "2025-02-18 10:10:48 (27.7 MB/s) - ‘aerofit_treadmill.csv.4’ saved [7279/7279]\n",
            "\n"
          ]
        }
      ],
      "source": [
        "#Downloading aerofit dataset\n",
        "!wget \"https://d2beiqkhq929f0.cloudfront.net/public_assets/assets/000/001/125/original/aerofit_treadmill.csv\""
      ]
    },
    {
      "cell_type": "code",
      "execution_count": null,
      "metadata": {
        "colab": {
          "background_save": true
        },
        "id": "20dJcK6rPuz_"
      },
      "outputs": [],
      "source": [
        "# Import relevant Libraries:\n",
        "import pandas as pd\n",
        "import numpy as np\n",
        "import matplotlib.pyplot as plt\n",
        "import seaborn as sns"
      ]
    },
    {
      "cell_type": "code",
      "execution_count": null,
      "metadata": {
        "colab": {
          "background_save": true
        },
        "id": "QbCGOkdwPves"
      },
      "outputs": [],
      "source": [
        "#Loading the data into dataframe object\n",
        "df=pd.read_csv(\"aerofit_treadmill.csv\")"
      ]
    },
    {
      "cell_type": "code",
      "execution_count": null,
      "metadata": {
        "colab": {
          "background_save": true,
          "base_uri": "https://localhost:8080/",
          "height": 206
        },
        "id": "FngiMDxwP0oV",
        "outputId": "4fb70dcf-d180-4bb0-a5f1-b1dbe5f6821c"
      },
      "outputs": [
        {
          "data": {
            "application/vnd.google.colaboratory.intrinsic+json": {
              "summary": "{\n  \"name\": \"df\",\n  \"rows\": 5,\n  \"fields\": [\n    {\n      \"column\": \"Product\",\n      \"properties\": {\n        \"dtype\": \"category\",\n        \"num_unique_values\": 2,\n        \"samples\": [\n          \"KP281\",\n          \"KP481\"\n        ],\n        \"semantic_type\": \"\",\n        \"description\": \"\"\n      }\n    },\n    {\n      \"column\": \"Age\",\n      \"properties\": {\n        \"dtype\": \"number\",\n        \"std\": 6,\n        \"min\": 23,\n        \"max\": 40,\n        \"num_unique_values\": 5,\n        \"samples\": [\n          26,\n          33\n        ],\n        \"semantic_type\": \"\",\n        \"description\": \"\"\n      }\n    },\n    {\n      \"column\": \"Gender\",\n      \"properties\": {\n        \"dtype\": \"category\",\n        \"num_unique_values\": 2,\n        \"samples\": [\n          \"Male\",\n          \"Female\"\n        ],\n        \"semantic_type\": \"\",\n        \"description\": \"\"\n      }\n    },\n    {\n      \"column\": \"Education\",\n      \"properties\": {\n        \"dtype\": \"number\",\n        \"std\": 0,\n        \"min\": 15,\n        \"max\": 16,\n        \"num_unique_values\": 2,\n        \"samples\": [\n          15,\n          16\n        ],\n        \"semantic_type\": \"\",\n        \"description\": \"\"\n      }\n    },\n    {\n      \"column\": \"MaritalStatus\",\n      \"properties\": {\n        \"dtype\": \"category\",\n        \"num_unique_values\": 1,\n        \"samples\": [\n          \"Partnered\"\n        ],\n        \"semantic_type\": \"\",\n        \"description\": \"\"\n      }\n    },\n    {\n      \"column\": \"Usage\",\n      \"properties\": {\n        \"dtype\": \"number\",\n        \"std\": 1,\n        \"min\": 2,\n        \"max\": 5,\n        \"num_unique_values\": 3,\n        \"samples\": [\n          3\n        ],\n        \"semantic_type\": \"\",\n        \"description\": \"\"\n      }\n    },\n    {\n      \"column\": \"Fitness\",\n      \"properties\": {\n        \"dtype\": \"number\",\n        \"std\": 0,\n        \"min\": 2,\n        \"max\": 3,\n        \"num_unique_values\": 2,\n        \"samples\": [\n          2\n        ],\n        \"semantic_type\": \"\",\n        \"description\": \"\"\n      }\n    },\n    {\n      \"column\": \"Income\",\n      \"properties\": {\n        \"dtype\": \"number\",\n        \"std\": 9957,\n        \"min\": 34110,\n        \"max\": 61398,\n        \"num_unique_values\": 4,\n        \"samples\": [\n          51165\n        ],\n        \"semantic_type\": \"\",\n        \"description\": \"\"\n      }\n    },\n    {\n      \"column\": \"Miles\",\n      \"properties\": {\n        \"dtype\": \"number\",\n        \"std\": 22,\n        \"min\": 38,\n        \"max\": 95,\n        \"num_unique_values\": 4,\n        \"samples\": [\n          64\n        ],\n        \"semantic_type\": \"\",\n        \"description\": \"\"\n      }\n    }\n  ]\n}",
              "type": "dataframe"
            },
            "text/html": [
              "\n",
              "  <div id=\"df-cfcafb42-4240-4bca-a460-36071ce45d39\" class=\"colab-df-container\">\n",
              "    <div>\n",
              "<style scoped>\n",
              "    .dataframe tbody tr th:only-of-type {\n",
              "        vertical-align: middle;\n",
              "    }\n",
              "\n",
              "    .dataframe tbody tr th {\n",
              "        vertical-align: top;\n",
              "    }\n",
              "\n",
              "    .dataframe thead th {\n",
              "        text-align: right;\n",
              "    }\n",
              "</style>\n",
              "<table border=\"1\" class=\"dataframe\">\n",
              "  <thead>\n",
              "    <tr style=\"text-align: right;\">\n",
              "      <th></th>\n",
              "      <th>Product</th>\n",
              "      <th>Age</th>\n",
              "      <th>Gender</th>\n",
              "      <th>Education</th>\n",
              "      <th>MaritalStatus</th>\n",
              "      <th>Usage</th>\n",
              "      <th>Fitness</th>\n",
              "      <th>Income</th>\n",
              "      <th>Miles</th>\n",
              "    </tr>\n",
              "  </thead>\n",
              "  <tbody>\n",
              "    <tr>\n",
              "      <th>135</th>\n",
              "      <td>KP481</td>\n",
              "      <td>40</td>\n",
              "      <td>Female</td>\n",
              "      <td>16</td>\n",
              "      <td>Partnered</td>\n",
              "      <td>3</td>\n",
              "      <td>3</td>\n",
              "      <td>61398</td>\n",
              "      <td>85</td>\n",
              "    </tr>\n",
              "    <tr>\n",
              "      <th>37</th>\n",
              "      <td>KP281</td>\n",
              "      <td>26</td>\n",
              "      <td>Male</td>\n",
              "      <td>16</td>\n",
              "      <td>Partnered</td>\n",
              "      <td>3</td>\n",
              "      <td>3</td>\n",
              "      <td>51165</td>\n",
              "      <td>85</td>\n",
              "    </tr>\n",
              "    <tr>\n",
              "      <th>116</th>\n",
              "      <td>KP481</td>\n",
              "      <td>31</td>\n",
              "      <td>Female</td>\n",
              "      <td>16</td>\n",
              "      <td>Partnered</td>\n",
              "      <td>2</td>\n",
              "      <td>3</td>\n",
              "      <td>51165</td>\n",
              "      <td>64</td>\n",
              "    </tr>\n",
              "    <tr>\n",
              "      <th>19</th>\n",
              "      <td>KP281</td>\n",
              "      <td>23</td>\n",
              "      <td>Female</td>\n",
              "      <td>15</td>\n",
              "      <td>Partnered</td>\n",
              "      <td>2</td>\n",
              "      <td>2</td>\n",
              "      <td>34110</td>\n",
              "      <td>38</td>\n",
              "    </tr>\n",
              "    <tr>\n",
              "      <th>123</th>\n",
              "      <td>KP481</td>\n",
              "      <td>33</td>\n",
              "      <td>Female</td>\n",
              "      <td>16</td>\n",
              "      <td>Partnered</td>\n",
              "      <td>5</td>\n",
              "      <td>3</td>\n",
              "      <td>53439</td>\n",
              "      <td>95</td>\n",
              "    </tr>\n",
              "  </tbody>\n",
              "</table>\n",
              "</div>\n",
              "    <div class=\"colab-df-buttons\">\n",
              "\n",
              "  <div class=\"colab-df-container\">\n",
              "    <button class=\"colab-df-convert\" onclick=\"convertToInteractive('df-cfcafb42-4240-4bca-a460-36071ce45d39')\"\n",
              "            title=\"Convert this dataframe to an interactive table.\"\n",
              "            style=\"display:none;\">\n",
              "\n",
              "  <svg xmlns=\"http://www.w3.org/2000/svg\" height=\"24px\" viewBox=\"0 -960 960 960\">\n",
              "    <path d=\"M120-120v-720h720v720H120Zm60-500h600v-160H180v160Zm220 220h160v-160H400v160Zm0 220h160v-160H400v160ZM180-400h160v-160H180v160Zm440 0h160v-160H620v160ZM180-180h160v-160H180v160Zm440 0h160v-160H620v160Z\"/>\n",
              "  </svg>\n",
              "    </button>\n",
              "\n",
              "  <style>\n",
              "    .colab-df-container {\n",
              "      display:flex;\n",
              "      gap: 12px;\n",
              "    }\n",
              "\n",
              "    .colab-df-convert {\n",
              "      background-color: #E8F0FE;\n",
              "      border: none;\n",
              "      border-radius: 50%;\n",
              "      cursor: pointer;\n",
              "      display: none;\n",
              "      fill: #1967D2;\n",
              "      height: 32px;\n",
              "      padding: 0 0 0 0;\n",
              "      width: 32px;\n",
              "    }\n",
              "\n",
              "    .colab-df-convert:hover {\n",
              "      background-color: #E2EBFA;\n",
              "      box-shadow: 0px 1px 2px rgba(60, 64, 67, 0.3), 0px 1px 3px 1px rgba(60, 64, 67, 0.15);\n",
              "      fill: #174EA6;\n",
              "    }\n",
              "\n",
              "    .colab-df-buttons div {\n",
              "      margin-bottom: 4px;\n",
              "    }\n",
              "\n",
              "    [theme=dark] .colab-df-convert {\n",
              "      background-color: #3B4455;\n",
              "      fill: #D2E3FC;\n",
              "    }\n",
              "\n",
              "    [theme=dark] .colab-df-convert:hover {\n",
              "      background-color: #434B5C;\n",
              "      box-shadow: 0px 1px 3px 1px rgba(0, 0, 0, 0.15);\n",
              "      filter: drop-shadow(0px 1px 2px rgba(0, 0, 0, 0.3));\n",
              "      fill: #FFFFFF;\n",
              "    }\n",
              "  </style>\n",
              "\n",
              "    <script>\n",
              "      const buttonEl =\n",
              "        document.querySelector('#df-cfcafb42-4240-4bca-a460-36071ce45d39 button.colab-df-convert');\n",
              "      buttonEl.style.display =\n",
              "        google.colab.kernel.accessAllowed ? 'block' : 'none';\n",
              "\n",
              "      async function convertToInteractive(key) {\n",
              "        const element = document.querySelector('#df-cfcafb42-4240-4bca-a460-36071ce45d39');\n",
              "        const dataTable =\n",
              "          await google.colab.kernel.invokeFunction('convertToInteractive',\n",
              "                                                    [key], {});\n",
              "        if (!dataTable) return;\n",
              "\n",
              "        const docLinkHtml = 'Like what you see? Visit the ' +\n",
              "          '<a target=\"_blank\" href=https://colab.research.google.com/notebooks/data_table.ipynb>data table notebook</a>'\n",
              "          + ' to learn more about interactive tables.';\n",
              "        element.innerHTML = '';\n",
              "        dataTable['output_type'] = 'display_data';\n",
              "        await google.colab.output.renderOutput(dataTable, element);\n",
              "        const docLink = document.createElement('div');\n",
              "        docLink.innerHTML = docLinkHtml;\n",
              "        element.appendChild(docLink);\n",
              "      }\n",
              "    </script>\n",
              "  </div>\n",
              "\n",
              "\n",
              "<div id=\"df-3aa053c8-852e-4ac0-b6b0-c57f5aa617b5\">\n",
              "  <button class=\"colab-df-quickchart\" onclick=\"quickchart('df-3aa053c8-852e-4ac0-b6b0-c57f5aa617b5')\"\n",
              "            title=\"Suggest charts\"\n",
              "            style=\"display:none;\">\n",
              "\n",
              "<svg xmlns=\"http://www.w3.org/2000/svg\" height=\"24px\"viewBox=\"0 0 24 24\"\n",
              "     width=\"24px\">\n",
              "    <g>\n",
              "        <path d=\"M19 3H5c-1.1 0-2 .9-2 2v14c0 1.1.9 2 2 2h14c1.1 0 2-.9 2-2V5c0-1.1-.9-2-2-2zM9 17H7v-7h2v7zm4 0h-2V7h2v10zm4 0h-2v-4h2v4z\"/>\n",
              "    </g>\n",
              "</svg>\n",
              "  </button>\n",
              "\n",
              "<style>\n",
              "  .colab-df-quickchart {\n",
              "      --bg-color: #E8F0FE;\n",
              "      --fill-color: #1967D2;\n",
              "      --hover-bg-color: #E2EBFA;\n",
              "      --hover-fill-color: #174EA6;\n",
              "      --disabled-fill-color: #AAA;\n",
              "      --disabled-bg-color: #DDD;\n",
              "  }\n",
              "\n",
              "  [theme=dark] .colab-df-quickchart {\n",
              "      --bg-color: #3B4455;\n",
              "      --fill-color: #D2E3FC;\n",
              "      --hover-bg-color: #434B5C;\n",
              "      --hover-fill-color: #FFFFFF;\n",
              "      --disabled-bg-color: #3B4455;\n",
              "      --disabled-fill-color: #666;\n",
              "  }\n",
              "\n",
              "  .colab-df-quickchart {\n",
              "    background-color: var(--bg-color);\n",
              "    border: none;\n",
              "    border-radius: 50%;\n",
              "    cursor: pointer;\n",
              "    display: none;\n",
              "    fill: var(--fill-color);\n",
              "    height: 32px;\n",
              "    padding: 0;\n",
              "    width: 32px;\n",
              "  }\n",
              "\n",
              "  .colab-df-quickchart:hover {\n",
              "    background-color: var(--hover-bg-color);\n",
              "    box-shadow: 0 1px 2px rgba(60, 64, 67, 0.3), 0 1px 3px 1px rgba(60, 64, 67, 0.15);\n",
              "    fill: var(--button-hover-fill-color);\n",
              "  }\n",
              "\n",
              "  .colab-df-quickchart-complete:disabled,\n",
              "  .colab-df-quickchart-complete:disabled:hover {\n",
              "    background-color: var(--disabled-bg-color);\n",
              "    fill: var(--disabled-fill-color);\n",
              "    box-shadow: none;\n",
              "  }\n",
              "\n",
              "  .colab-df-spinner {\n",
              "    border: 2px solid var(--fill-color);\n",
              "    border-color: transparent;\n",
              "    border-bottom-color: var(--fill-color);\n",
              "    animation:\n",
              "      spin 1s steps(1) infinite;\n",
              "  }\n",
              "\n",
              "  @keyframes spin {\n",
              "    0% {\n",
              "      border-color: transparent;\n",
              "      border-bottom-color: var(--fill-color);\n",
              "      border-left-color: var(--fill-color);\n",
              "    }\n",
              "    20% {\n",
              "      border-color: transparent;\n",
              "      border-left-color: var(--fill-color);\n",
              "      border-top-color: var(--fill-color);\n",
              "    }\n",
              "    30% {\n",
              "      border-color: transparent;\n",
              "      border-left-color: var(--fill-color);\n",
              "      border-top-color: var(--fill-color);\n",
              "      border-right-color: var(--fill-color);\n",
              "    }\n",
              "    40% {\n",
              "      border-color: transparent;\n",
              "      border-right-color: var(--fill-color);\n",
              "      border-top-color: var(--fill-color);\n",
              "    }\n",
              "    60% {\n",
              "      border-color: transparent;\n",
              "      border-right-color: var(--fill-color);\n",
              "    }\n",
              "    80% {\n",
              "      border-color: transparent;\n",
              "      border-right-color: var(--fill-color);\n",
              "      border-bottom-color: var(--fill-color);\n",
              "    }\n",
              "    90% {\n",
              "      border-color: transparent;\n",
              "      border-bottom-color: var(--fill-color);\n",
              "    }\n",
              "  }\n",
              "</style>\n",
              "\n",
              "  <script>\n",
              "    async function quickchart(key) {\n",
              "      const quickchartButtonEl =\n",
              "        document.querySelector('#' + key + ' button');\n",
              "      quickchartButtonEl.disabled = true;  // To prevent multiple clicks.\n",
              "      quickchartButtonEl.classList.add('colab-df-spinner');\n",
              "      try {\n",
              "        const charts = await google.colab.kernel.invokeFunction(\n",
              "            'suggestCharts', [key], {});\n",
              "      } catch (error) {\n",
              "        console.error('Error during call to suggestCharts:', error);\n",
              "      }\n",
              "      quickchartButtonEl.classList.remove('colab-df-spinner');\n",
              "      quickchartButtonEl.classList.add('colab-df-quickchart-complete');\n",
              "    }\n",
              "    (() => {\n",
              "      let quickchartButtonEl =\n",
              "        document.querySelector('#df-3aa053c8-852e-4ac0-b6b0-c57f5aa617b5 button');\n",
              "      quickchartButtonEl.style.display =\n",
              "        google.colab.kernel.accessAllowed ? 'block' : 'none';\n",
              "    })();\n",
              "  </script>\n",
              "</div>\n",
              "\n",
              "    </div>\n",
              "  </div>\n"
            ],
            "text/plain": [
              "    Product  Age  Gender  Education MaritalStatus  Usage  Fitness  Income  \\\n",
              "135   KP481   40  Female         16     Partnered      3        3   61398   \n",
              "37    KP281   26    Male         16     Partnered      3        3   51165   \n",
              "116   KP481   31  Female         16     Partnered      2        3   51165   \n",
              "19    KP281   23  Female         15     Partnered      2        2   34110   \n",
              "123   KP481   33  Female         16     Partnered      5        3   53439   \n",
              "\n",
              "     Miles  \n",
              "135     85  \n",
              "37      85  \n",
              "116     64  \n",
              "19      38  \n",
              "123     95  "
            ]
          },
          "execution_count": 198,
          "metadata": {},
          "output_type": "execute_result"
        }
      ],
      "source": [
        "# Look at the sample data(5 rows)\n",
        "df.sample(5)"
      ]
    },
    {
      "cell_type": "code",
      "execution_count": null,
      "metadata": {
        "colab": {
          "background_save": true,
          "base_uri": "https://localhost:8080/"
        },
        "id": "nvddyZteFWJW",
        "outputId": "8ccc1052-4790-469c-f554-3707c4e20d1a"
      },
      "outputs": [
        {
          "data": {
            "text/plain": [
              "Index(['Product', 'Age', 'Gender', 'Education', 'MaritalStatus', 'Usage',\n",
              "       'Fitness', 'Income', 'Miles'],\n",
              "      dtype='object')"
            ]
          },
          "execution_count": 199,
          "metadata": {},
          "output_type": "execute_result"
        }
      ],
      "source": [
        "df.columns"
      ]
    },
    {
      "cell_type": "markdown",
      "metadata": {
        "id": "I8wyCmrsFh4I"
      },
      "source": [
        "The columns in the dataset specifies the following information:\n",
        "\n",
        "Product Purchased:\tKP281, KP481, or KP781\n",
        "\n",
        "Age:\tIn years\n",
        "\n",
        "Gender:\tMale/Female\n",
        "\n",
        "Education:\tIn years\n",
        "\n",
        "MaritalStatus:\tSingle or partnered\n",
        "\n",
        "Usage:\tThe average number of times the customer plans to use the treadmill each week.\n",
        "\n",
        "Income:\tAnnual income (in $)\n",
        "\n",
        "Fitness:\tSelf-rated fitness on a 1-to-5 scale, where 1 is the poor shape and 5 is the excellent shape.\n",
        "\n",
        "Miles:\tThe average number of miles the customer expects to walk/run each week"
      ]
    },
    {
      "cell_type": "markdown",
      "metadata": {
        "id": "aGh0jejGlF8R"
      },
      "source": [
        "**Product Portfolio:**\n",
        "\n",
        "The KP281 is an entry-level treadmill that sells for $1,500.\n",
        "\n",
        "The KP481 is for mid-level runners that sell for $1,750.\n",
        "\n",
        "The KP781 treadmill is having advanced features that sell for $2,500."
      ]
    },
    {
      "cell_type": "code",
      "execution_count": null,
      "metadata": {
        "colab": {
          "background_save": true,
          "base_uri": "https://localhost:8080/"
        },
        "id": "Qb0UAZTpFguQ",
        "outputId": "704deb2a-46c9-4db6-bc6c-01b289567e23"
      },
      "outputs": [
        {
          "data": {
            "text/plain": [
              "(180, 9)"
            ]
          },
          "execution_count": 200,
          "metadata": {},
          "output_type": "execute_result"
        }
      ],
      "source": [
        "# No. of rows and columns\n",
        "df.shape"
      ]
    },
    {
      "cell_type": "code",
      "execution_count": null,
      "metadata": {
        "colab": {
          "background_save": true,
          "base_uri": "https://localhost:8080/"
        },
        "id": "w_3TDtNEF9O1",
        "outputId": "fb3f569f-193e-41ae-ed85-042544c2bfcb"
      },
      "outputs": [
        {
          "name": "stdout",
          "output_type": "stream",
          "text": [
            "<class 'pandas.core.frame.DataFrame'>\n",
            "RangeIndex: 180 entries, 0 to 179\n",
            "Data columns (total 9 columns):\n",
            " #   Column         Non-Null Count  Dtype \n",
            "---  ------         --------------  ----- \n",
            " 0   Product        180 non-null    object\n",
            " 1   Age            180 non-null    int64 \n",
            " 2   Gender         180 non-null    object\n",
            " 3   Education      180 non-null    int64 \n",
            " 4   MaritalStatus  180 non-null    object\n",
            " 5   Usage          180 non-null    int64 \n",
            " 6   Fitness        180 non-null    int64 \n",
            " 7   Income         180 non-null    int64 \n",
            " 8   Miles          180 non-null    int64 \n",
            "dtypes: int64(6), object(3)\n",
            "memory usage: 12.8+ KB\n"
          ]
        }
      ],
      "source": [
        "# Basic Info: Column names, column data type, number of non-null values\n",
        "df.info()"
      ]
    },
    {
      "cell_type": "markdown",
      "metadata": {
        "id": "zLRVW2aLGE65"
      },
      "source": [
        "df.info() provides a concise summary of a DataFrame, including the number of entries, column names, data types, non-null counts\n",
        "\n",
        "From above information we can infer\n",
        "\n",
        "*   Columns - Product,Gender,MaritalStatus are of object type values\n",
        "*   Columns - Age,Education,Usage,Fitness,Income, Miles are of integer type data\n",
        "*   there are no missing values in dataset [shape - (180,9)]"
      ]
    },
    {
      "cell_type": "code",
      "execution_count": null,
      "metadata": {
        "colab": {
          "background_save": true,
          "base_uri": "https://localhost:8080/"
        },
        "id": "TPoYp2vxTP-O",
        "outputId": "33aeb7a8-b6af-4e22-d7ef-3be1b4d5fc9e"
      },
      "outputs": [
        {
          "name": "stdout",
          "output_type": "stream",
          "text": [
            "<class 'pandas.core.frame.DataFrame'>\n",
            "RangeIndex: 180 entries, 0 to 179\n",
            "Data columns (total 9 columns):\n",
            " #   Column         Non-Null Count  Dtype   \n",
            "---  ------         --------------  -----   \n",
            " 0   Product        180 non-null    category\n",
            " 1   Age            180 non-null    int64   \n",
            " 2   Gender         180 non-null    category\n",
            " 3   Education      180 non-null    int64   \n",
            " 4   MaritalStatus  180 non-null    category\n",
            " 5   Usage          180 non-null    int64   \n",
            " 6   Fitness        180 non-null    int64   \n",
            " 7   Income         180 non-null    int64   \n",
            " 8   Miles          180 non-null    int64   \n",
            "dtypes: category(3), int64(6)\n",
            "memory usage: 9.5 KB\n",
            "None\n"
          ]
        }
      ],
      "source": [
        "# Converting Product,Gender,MaritalStatus columns into categorical type\n",
        "\n",
        "df['Product']=df['Product'].astype('category')\n",
        "df['Gender']=df['Gender'].astype('category')\n",
        "df['MaritalStatus']=df['MaritalStatus'].astype('category')\n",
        "\n",
        "print(df.info())"
      ]
    },
    {
      "cell_type": "code",
      "execution_count": null,
      "metadata": {
        "colab": {
          "background_save": true,
          "base_uri": "https://localhost:8080/",
          "height": 366
        },
        "id": "Kpp3sml6F_2R",
        "outputId": "2166206e-9c1e-4fbd-ec84-ab2d32cf6a98"
      },
      "outputs": [
        {
          "data": {
            "text/html": [
              "<div>\n",
              "<style scoped>\n",
              "    .dataframe tbody tr th:only-of-type {\n",
              "        vertical-align: middle;\n",
              "    }\n",
              "\n",
              "    .dataframe tbody tr th {\n",
              "        vertical-align: top;\n",
              "    }\n",
              "\n",
              "    .dataframe thead th {\n",
              "        text-align: right;\n",
              "    }\n",
              "</style>\n",
              "<table border=\"1\" class=\"dataframe\">\n",
              "  <thead>\n",
              "    <tr style=\"text-align: right;\">\n",
              "      <th></th>\n",
              "      <th>0</th>\n",
              "    </tr>\n",
              "  </thead>\n",
              "  <tbody>\n",
              "    <tr>\n",
              "      <th>Product</th>\n",
              "      <td>3</td>\n",
              "    </tr>\n",
              "    <tr>\n",
              "      <th>Age</th>\n",
              "      <td>32</td>\n",
              "    </tr>\n",
              "    <tr>\n",
              "      <th>Gender</th>\n",
              "      <td>2</td>\n",
              "    </tr>\n",
              "    <tr>\n",
              "      <th>Education</th>\n",
              "      <td>8</td>\n",
              "    </tr>\n",
              "    <tr>\n",
              "      <th>MaritalStatus</th>\n",
              "      <td>2</td>\n",
              "    </tr>\n",
              "    <tr>\n",
              "      <th>Usage</th>\n",
              "      <td>6</td>\n",
              "    </tr>\n",
              "    <tr>\n",
              "      <th>Fitness</th>\n",
              "      <td>5</td>\n",
              "    </tr>\n",
              "    <tr>\n",
              "      <th>Income</th>\n",
              "      <td>62</td>\n",
              "    </tr>\n",
              "    <tr>\n",
              "      <th>Miles</th>\n",
              "      <td>37</td>\n",
              "    </tr>\n",
              "  </tbody>\n",
              "</table>\n",
              "</div><br><label><b>dtype:</b> int64</label>"
            ],
            "text/plain": [
              "Product           3\n",
              "Age              32\n",
              "Gender            2\n",
              "Education         8\n",
              "MaritalStatus     2\n",
              "Usage             6\n",
              "Fitness           5\n",
              "Income           62\n",
              "Miles            37\n",
              "dtype: int64"
            ]
          },
          "execution_count": 203,
          "metadata": {},
          "output_type": "execute_result"
        }
      ],
      "source": [
        "#number of unique values in  data\n",
        "df.nunique()"
      ]
    },
    {
      "cell_type": "code",
      "execution_count": null,
      "metadata": {
        "colab": {
          "background_save": true,
          "base_uri": "https://localhost:8080/"
        },
        "id": "Sn_YZRZ-U6Rb",
        "outputId": "9fee5b99-c7af-46cb-96aa-6ec1243e8591"
      },
      "outputs": [
        {
          "name": "stdout",
          "output_type": "stream",
          "text": [
            "['KP281', 'KP481', 'KP781']\n",
            "Categories (3, object): ['KP281', 'KP481', 'KP781']\n",
            "['Male', 'Female']\n",
            "Categories (2, object): ['Female', 'Male']\n",
            "['Single', 'Partnered']\n",
            "Categories (2, object): ['Partnered', 'Single']\n"
          ]
        }
      ],
      "source": [
        "#unique values for columns Product, Gender, MaritalStatus\n",
        "print(df['Product'].unique())\n",
        "print(df['Gender'].unique())\n",
        "print(df['MaritalStatus'].unique())"
      ]
    },
    {
      "cell_type": "markdown",
      "metadata": {
        "id": "YtYIDrKMbMRq"
      },
      "source": [
        "There are 3 categories of Product: 'KP281', 'KP481', 'KP781'\n",
        "\n",
        "Gender : Male, Female\n",
        "\n",
        "MaritalStatus : Single, Partnered"
      ]
    },
    {
      "cell_type": "code",
      "execution_count": null,
      "metadata": {
        "colab": {
          "background_save": true,
          "base_uri": "https://localhost:8080/",
          "height": 175
        },
        "id": "aWitU6sASZDK",
        "outputId": "b100436b-e446-45a3-f103-45471219be69"
      },
      "outputs": [
        {
          "data": {
            "application/vnd.google.colaboratory.intrinsic+json": {
              "summary": "{\n  \"name\": \"df\",\n  \"rows\": 4,\n  \"fields\": [\n    {\n      \"column\": \"Product\",\n      \"properties\": {\n        \"dtype\": \"string\",\n        \"num_unique_values\": 4,\n        \"samples\": [\n          3,\n          \"80\",\n          \"180\"\n        ],\n        \"semantic_type\": \"\",\n        \"description\": \"\"\n      }\n    },\n    {\n      \"column\": \"Gender\",\n      \"properties\": {\n        \"dtype\": \"string\",\n        \"num_unique_values\": 4,\n        \"samples\": [\n          2,\n          \"104\",\n          \"180\"\n        ],\n        \"semantic_type\": \"\",\n        \"description\": \"\"\n      }\n    },\n    {\n      \"column\": \"MaritalStatus\",\n      \"properties\": {\n        \"dtype\": \"string\",\n        \"num_unique_values\": 4,\n        \"samples\": [\n          2,\n          \"107\",\n          \"180\"\n        ],\n        \"semantic_type\": \"\",\n        \"description\": \"\"\n      }\n    }\n  ]\n}",
              "type": "dataframe"
            },
            "text/html": [
              "\n",
              "  <div id=\"df-e74cafb1-3a22-4645-a814-0ec97ea63d59\" class=\"colab-df-container\">\n",
              "    <div>\n",
              "<style scoped>\n",
              "    .dataframe tbody tr th:only-of-type {\n",
              "        vertical-align: middle;\n",
              "    }\n",
              "\n",
              "    .dataframe tbody tr th {\n",
              "        vertical-align: top;\n",
              "    }\n",
              "\n",
              "    .dataframe thead th {\n",
              "        text-align: right;\n",
              "    }\n",
              "</style>\n",
              "<table border=\"1\" class=\"dataframe\">\n",
              "  <thead>\n",
              "    <tr style=\"text-align: right;\">\n",
              "      <th></th>\n",
              "      <th>Product</th>\n",
              "      <th>Gender</th>\n",
              "      <th>MaritalStatus</th>\n",
              "    </tr>\n",
              "  </thead>\n",
              "  <tbody>\n",
              "    <tr>\n",
              "      <th>count</th>\n",
              "      <td>180</td>\n",
              "      <td>180</td>\n",
              "      <td>180</td>\n",
              "    </tr>\n",
              "    <tr>\n",
              "      <th>unique</th>\n",
              "      <td>3</td>\n",
              "      <td>2</td>\n",
              "      <td>2</td>\n",
              "    </tr>\n",
              "    <tr>\n",
              "      <th>top</th>\n",
              "      <td>KP281</td>\n",
              "      <td>Male</td>\n",
              "      <td>Partnered</td>\n",
              "    </tr>\n",
              "    <tr>\n",
              "      <th>freq</th>\n",
              "      <td>80</td>\n",
              "      <td>104</td>\n",
              "      <td>107</td>\n",
              "    </tr>\n",
              "  </tbody>\n",
              "</table>\n",
              "</div>\n",
              "    <div class=\"colab-df-buttons\">\n",
              "\n",
              "  <div class=\"colab-df-container\">\n",
              "    <button class=\"colab-df-convert\" onclick=\"convertToInteractive('df-e74cafb1-3a22-4645-a814-0ec97ea63d59')\"\n",
              "            title=\"Convert this dataframe to an interactive table.\"\n",
              "            style=\"display:none;\">\n",
              "\n",
              "  <svg xmlns=\"http://www.w3.org/2000/svg\" height=\"24px\" viewBox=\"0 -960 960 960\">\n",
              "    <path d=\"M120-120v-720h720v720H120Zm60-500h600v-160H180v160Zm220 220h160v-160H400v160Zm0 220h160v-160H400v160ZM180-400h160v-160H180v160Zm440 0h160v-160H620v160ZM180-180h160v-160H180v160Zm440 0h160v-160H620v160Z\"/>\n",
              "  </svg>\n",
              "    </button>\n",
              "\n",
              "  <style>\n",
              "    .colab-df-container {\n",
              "      display:flex;\n",
              "      gap: 12px;\n",
              "    }\n",
              "\n",
              "    .colab-df-convert {\n",
              "      background-color: #E8F0FE;\n",
              "      border: none;\n",
              "      border-radius: 50%;\n",
              "      cursor: pointer;\n",
              "      display: none;\n",
              "      fill: #1967D2;\n",
              "      height: 32px;\n",
              "      padding: 0 0 0 0;\n",
              "      width: 32px;\n",
              "    }\n",
              "\n",
              "    .colab-df-convert:hover {\n",
              "      background-color: #E2EBFA;\n",
              "      box-shadow: 0px 1px 2px rgba(60, 64, 67, 0.3), 0px 1px 3px 1px rgba(60, 64, 67, 0.15);\n",
              "      fill: #174EA6;\n",
              "    }\n",
              "\n",
              "    .colab-df-buttons div {\n",
              "      margin-bottom: 4px;\n",
              "    }\n",
              "\n",
              "    [theme=dark] .colab-df-convert {\n",
              "      background-color: #3B4455;\n",
              "      fill: #D2E3FC;\n",
              "    }\n",
              "\n",
              "    [theme=dark] .colab-df-convert:hover {\n",
              "      background-color: #434B5C;\n",
              "      box-shadow: 0px 1px 3px 1px rgba(0, 0, 0, 0.15);\n",
              "      filter: drop-shadow(0px 1px 2px rgba(0, 0, 0, 0.3));\n",
              "      fill: #FFFFFF;\n",
              "    }\n",
              "  </style>\n",
              "\n",
              "    <script>\n",
              "      const buttonEl =\n",
              "        document.querySelector('#df-e74cafb1-3a22-4645-a814-0ec97ea63d59 button.colab-df-convert');\n",
              "      buttonEl.style.display =\n",
              "        google.colab.kernel.accessAllowed ? 'block' : 'none';\n",
              "\n",
              "      async function convertToInteractive(key) {\n",
              "        const element = document.querySelector('#df-e74cafb1-3a22-4645-a814-0ec97ea63d59');\n",
              "        const dataTable =\n",
              "          await google.colab.kernel.invokeFunction('convertToInteractive',\n",
              "                                                    [key], {});\n",
              "        if (!dataTable) return;\n",
              "\n",
              "        const docLinkHtml = 'Like what you see? Visit the ' +\n",
              "          '<a target=\"_blank\" href=https://colab.research.google.com/notebooks/data_table.ipynb>data table notebook</a>'\n",
              "          + ' to learn more about interactive tables.';\n",
              "        element.innerHTML = '';\n",
              "        dataTable['output_type'] = 'display_data';\n",
              "        await google.colab.output.renderOutput(dataTable, element);\n",
              "        const docLink = document.createElement('div');\n",
              "        docLink.innerHTML = docLinkHtml;\n",
              "        element.appendChild(docLink);\n",
              "      }\n",
              "    </script>\n",
              "  </div>\n",
              "\n",
              "\n",
              "<div id=\"df-e954e6fc-983e-44cd-aa7d-3e6531f3ee81\">\n",
              "  <button class=\"colab-df-quickchart\" onclick=\"quickchart('df-e954e6fc-983e-44cd-aa7d-3e6531f3ee81')\"\n",
              "            title=\"Suggest charts\"\n",
              "            style=\"display:none;\">\n",
              "\n",
              "<svg xmlns=\"http://www.w3.org/2000/svg\" height=\"24px\"viewBox=\"0 0 24 24\"\n",
              "     width=\"24px\">\n",
              "    <g>\n",
              "        <path d=\"M19 3H5c-1.1 0-2 .9-2 2v14c0 1.1.9 2 2 2h14c1.1 0 2-.9 2-2V5c0-1.1-.9-2-2-2zM9 17H7v-7h2v7zm4 0h-2V7h2v10zm4 0h-2v-4h2v4z\"/>\n",
              "    </g>\n",
              "</svg>\n",
              "  </button>\n",
              "\n",
              "<style>\n",
              "  .colab-df-quickchart {\n",
              "      --bg-color: #E8F0FE;\n",
              "      --fill-color: #1967D2;\n",
              "      --hover-bg-color: #E2EBFA;\n",
              "      --hover-fill-color: #174EA6;\n",
              "      --disabled-fill-color: #AAA;\n",
              "      --disabled-bg-color: #DDD;\n",
              "  }\n",
              "\n",
              "  [theme=dark] .colab-df-quickchart {\n",
              "      --bg-color: #3B4455;\n",
              "      --fill-color: #D2E3FC;\n",
              "      --hover-bg-color: #434B5C;\n",
              "      --hover-fill-color: #FFFFFF;\n",
              "      --disabled-bg-color: #3B4455;\n",
              "      --disabled-fill-color: #666;\n",
              "  }\n",
              "\n",
              "  .colab-df-quickchart {\n",
              "    background-color: var(--bg-color);\n",
              "    border: none;\n",
              "    border-radius: 50%;\n",
              "    cursor: pointer;\n",
              "    display: none;\n",
              "    fill: var(--fill-color);\n",
              "    height: 32px;\n",
              "    padding: 0;\n",
              "    width: 32px;\n",
              "  }\n",
              "\n",
              "  .colab-df-quickchart:hover {\n",
              "    background-color: var(--hover-bg-color);\n",
              "    box-shadow: 0 1px 2px rgba(60, 64, 67, 0.3), 0 1px 3px 1px rgba(60, 64, 67, 0.15);\n",
              "    fill: var(--button-hover-fill-color);\n",
              "  }\n",
              "\n",
              "  .colab-df-quickchart-complete:disabled,\n",
              "  .colab-df-quickchart-complete:disabled:hover {\n",
              "    background-color: var(--disabled-bg-color);\n",
              "    fill: var(--disabled-fill-color);\n",
              "    box-shadow: none;\n",
              "  }\n",
              "\n",
              "  .colab-df-spinner {\n",
              "    border: 2px solid var(--fill-color);\n",
              "    border-color: transparent;\n",
              "    border-bottom-color: var(--fill-color);\n",
              "    animation:\n",
              "      spin 1s steps(1) infinite;\n",
              "  }\n",
              "\n",
              "  @keyframes spin {\n",
              "    0% {\n",
              "      border-color: transparent;\n",
              "      border-bottom-color: var(--fill-color);\n",
              "      border-left-color: var(--fill-color);\n",
              "    }\n",
              "    20% {\n",
              "      border-color: transparent;\n",
              "      border-left-color: var(--fill-color);\n",
              "      border-top-color: var(--fill-color);\n",
              "    }\n",
              "    30% {\n",
              "      border-color: transparent;\n",
              "      border-left-color: var(--fill-color);\n",
              "      border-top-color: var(--fill-color);\n",
              "      border-right-color: var(--fill-color);\n",
              "    }\n",
              "    40% {\n",
              "      border-color: transparent;\n",
              "      border-right-color: var(--fill-color);\n",
              "      border-top-color: var(--fill-color);\n",
              "    }\n",
              "    60% {\n",
              "      border-color: transparent;\n",
              "      border-right-color: var(--fill-color);\n",
              "    }\n",
              "    80% {\n",
              "      border-color: transparent;\n",
              "      border-right-color: var(--fill-color);\n",
              "      border-bottom-color: var(--fill-color);\n",
              "    }\n",
              "    90% {\n",
              "      border-color: transparent;\n",
              "      border-bottom-color: var(--fill-color);\n",
              "    }\n",
              "  }\n",
              "</style>\n",
              "\n",
              "  <script>\n",
              "    async function quickchart(key) {\n",
              "      const quickchartButtonEl =\n",
              "        document.querySelector('#' + key + ' button');\n",
              "      quickchartButtonEl.disabled = true;  // To prevent multiple clicks.\n",
              "      quickchartButtonEl.classList.add('colab-df-spinner');\n",
              "      try {\n",
              "        const charts = await google.colab.kernel.invokeFunction(\n",
              "            'suggestCharts', [key], {});\n",
              "      } catch (error) {\n",
              "        console.error('Error during call to suggestCharts:', error);\n",
              "      }\n",
              "      quickchartButtonEl.classList.remove('colab-df-spinner');\n",
              "      quickchartButtonEl.classList.add('colab-df-quickchart-complete');\n",
              "    }\n",
              "    (() => {\n",
              "      let quickchartButtonEl =\n",
              "        document.querySelector('#df-e954e6fc-983e-44cd-aa7d-3e6531f3ee81 button');\n",
              "      quickchartButtonEl.style.display =\n",
              "        google.colab.kernel.accessAllowed ? 'block' : 'none';\n",
              "    })();\n",
              "  </script>\n",
              "</div>\n",
              "\n",
              "    </div>\n",
              "  </div>\n"
            ],
            "text/plain": [
              "       Product Gender MaritalStatus\n",
              "count      180    180           180\n",
              "unique       3      2             2\n",
              "top      KP281   Male     Partnered\n",
              "freq        80    104           107"
            ]
          },
          "execution_count": 205,
          "metadata": {},
          "output_type": "execute_result"
        }
      ],
      "source": [
        "df.describe(include='category')#provide statistical summary of categorical columns"
      ]
    },
    {
      "cell_type": "markdown",
      "metadata": {
        "id": "TzBGxHfzUPHA"
      },
      "source": [
        "*   KP281 is the most popular product among the three offered by Aerofit(80 out of 180).\n",
        "*   More males than females are present in the dataset.\n",
        "*   A majority of customers in the dataset are partnered.\n",
        "\n",
        "\n",
        "\n",
        "\n",
        "\n"
      ]
    },
    {
      "cell_type": "code",
      "execution_count": null,
      "metadata": {
        "colab": {
          "background_save": true,
          "base_uri": "https://localhost:8080/",
          "height": 210
        },
        "id": "ZEfl5RdSkbKS",
        "outputId": "61bcc9c6-f1a1-40da-a766-aaaea53bff27"
      },
      "outputs": [
        {
          "data": {
            "text/html": [
              "<div>\n",
              "<style scoped>\n",
              "    .dataframe tbody tr th:only-of-type {\n",
              "        vertical-align: middle;\n",
              "    }\n",
              "\n",
              "    .dataframe tbody tr th {\n",
              "        vertical-align: top;\n",
              "    }\n",
              "\n",
              "    .dataframe thead th {\n",
              "        text-align: right;\n",
              "    }\n",
              "</style>\n",
              "<table border=\"1\" class=\"dataframe\">\n",
              "  <thead>\n",
              "    <tr style=\"text-align: right;\">\n",
              "      <th></th>\n",
              "      <th>count</th>\n",
              "    </tr>\n",
              "    <tr>\n",
              "      <th>Product</th>\n",
              "      <th></th>\n",
              "    </tr>\n",
              "  </thead>\n",
              "  <tbody>\n",
              "    <tr>\n",
              "      <th>KP281</th>\n",
              "      <td>80</td>\n",
              "    </tr>\n",
              "    <tr>\n",
              "      <th>KP481</th>\n",
              "      <td>60</td>\n",
              "    </tr>\n",
              "    <tr>\n",
              "      <th>KP781</th>\n",
              "      <td>40</td>\n",
              "    </tr>\n",
              "  </tbody>\n",
              "</table>\n",
              "</div><br><label><b>dtype:</b> int64</label>"
            ],
            "text/plain": [
              "Product\n",
              "KP281    80\n",
              "KP481    60\n",
              "KP781    40\n",
              "Name: count, dtype: int64"
            ]
          },
          "execution_count": 206,
          "metadata": {},
          "output_type": "execute_result"
        }
      ],
      "source": [
        "#The value_counts method provides the frequency of unique values in a column.\n",
        "df['Product'].value_counts()"
      ]
    },
    {
      "cell_type": "markdown",
      "metadata": {
        "id": "akOEzuOHkqir"
      },
      "source": [
        "KP281 is the best-selling treadmill, followed by KP481, then KP781."
      ]
    },
    {
      "cell_type": "code",
      "execution_count": null,
      "metadata": {
        "colab": {
          "background_save": true,
          "base_uri": "https://localhost:8080/",
          "height": 300
        },
        "id": "h1bJEqruR7Lf",
        "outputId": "c3c14738-27b9-45a2-9dd3-e1722cbbde90"
      },
      "outputs": [
        {
          "data": {
            "application/vnd.google.colaboratory.intrinsic+json": {
              "summary": "{\n  \"name\": \"df\",\n  \"rows\": 8,\n  \"fields\": [\n    {\n      \"column\": \"Age\",\n      \"properties\": {\n        \"dtype\": \"number\",\n        \"std\": 55.58832332198464,\n        \"min\": 6.943498135399795,\n        \"max\": 180.0,\n        \"num_unique_values\": 8,\n        \"samples\": [\n          28.788888888888888,\n          26.0,\n          180.0\n        ],\n        \"semantic_type\": \"\",\n        \"description\": \"\"\n      }\n    },\n    {\n      \"column\": \"Education\",\n      \"properties\": {\n        \"dtype\": \"number\",\n        \"std\": 59.04362112875324,\n        \"min\": 1.6170548978065553,\n        \"max\": 180.0,\n        \"num_unique_values\": 7,\n        \"samples\": [\n          180.0,\n          15.572222222222223,\n          16.0\n        ],\n        \"semantic_type\": \"\",\n        \"description\": \"\"\n      }\n    },\n    {\n      \"column\": \"Usage\",\n      \"properties\": {\n        \"dtype\": \"number\",\n        \"std\": 62.474604277313155,\n        \"min\": 1.0847970343962445,\n        \"max\": 180.0,\n        \"num_unique_values\": 7,\n        \"samples\": [\n          180.0,\n          3.4555555555555557,\n          4.0\n        ],\n        \"semantic_type\": \"\",\n        \"description\": \"\"\n      }\n    },\n    {\n      \"column\": \"Fitness\",\n      \"properties\": {\n        \"dtype\": \"number\",\n        \"std\": 62.63086276036247,\n        \"min\": 0.958868565619312,\n        \"max\": 180.0,\n        \"num_unique_values\": 7,\n        \"samples\": [\n          180.0,\n          3.311111111111111,\n          4.0\n        ],\n        \"semantic_type\": \"\",\n        \"description\": \"\"\n      }\n    },\n    {\n      \"column\": \"Income\",\n      \"properties\": {\n        \"dtype\": \"number\",\n        \"std\": 31403.855763201762,\n        \"min\": 180.0,\n        \"max\": 104581.0,\n        \"num_unique_values\": 8,\n        \"samples\": [\n          53719.57777777778,\n          50596.5,\n          180.0\n        ],\n        \"semantic_type\": \"\",\n        \"description\": \"\"\n      }\n    },\n    {\n      \"column\": \"Miles\",\n      \"properties\": {\n        \"dtype\": \"number\",\n        \"std\": 106.52090041797726,\n        \"min\": 21.0,\n        \"max\": 360.0,\n        \"num_unique_values\": 8,\n        \"samples\": [\n          103.19444444444444,\n          94.0,\n          180.0\n        ],\n        \"semantic_type\": \"\",\n        \"description\": \"\"\n      }\n    }\n  ]\n}",
              "type": "dataframe"
            },
            "text/html": [
              "\n",
              "  <div id=\"df-1e092ad7-a430-4211-b2bc-1cdbe2edb354\" class=\"colab-df-container\">\n",
              "    <div>\n",
              "<style scoped>\n",
              "    .dataframe tbody tr th:only-of-type {\n",
              "        vertical-align: middle;\n",
              "    }\n",
              "\n",
              "    .dataframe tbody tr th {\n",
              "        vertical-align: top;\n",
              "    }\n",
              "\n",
              "    .dataframe thead th {\n",
              "        text-align: right;\n",
              "    }\n",
              "</style>\n",
              "<table border=\"1\" class=\"dataframe\">\n",
              "  <thead>\n",
              "    <tr style=\"text-align: right;\">\n",
              "      <th></th>\n",
              "      <th>Age</th>\n",
              "      <th>Education</th>\n",
              "      <th>Usage</th>\n",
              "      <th>Fitness</th>\n",
              "      <th>Income</th>\n",
              "      <th>Miles</th>\n",
              "    </tr>\n",
              "  </thead>\n",
              "  <tbody>\n",
              "    <tr>\n",
              "      <th>count</th>\n",
              "      <td>180.000000</td>\n",
              "      <td>180.000000</td>\n",
              "      <td>180.000000</td>\n",
              "      <td>180.000000</td>\n",
              "      <td>180.000000</td>\n",
              "      <td>180.000000</td>\n",
              "    </tr>\n",
              "    <tr>\n",
              "      <th>mean</th>\n",
              "      <td>28.788889</td>\n",
              "      <td>15.572222</td>\n",
              "      <td>3.455556</td>\n",
              "      <td>3.311111</td>\n",
              "      <td>53719.577778</td>\n",
              "      <td>103.194444</td>\n",
              "    </tr>\n",
              "    <tr>\n",
              "      <th>std</th>\n",
              "      <td>6.943498</td>\n",
              "      <td>1.617055</td>\n",
              "      <td>1.084797</td>\n",
              "      <td>0.958869</td>\n",
              "      <td>16506.684226</td>\n",
              "      <td>51.863605</td>\n",
              "    </tr>\n",
              "    <tr>\n",
              "      <th>min</th>\n",
              "      <td>18.000000</td>\n",
              "      <td>12.000000</td>\n",
              "      <td>2.000000</td>\n",
              "      <td>1.000000</td>\n",
              "      <td>29562.000000</td>\n",
              "      <td>21.000000</td>\n",
              "    </tr>\n",
              "    <tr>\n",
              "      <th>25%</th>\n",
              "      <td>24.000000</td>\n",
              "      <td>14.000000</td>\n",
              "      <td>3.000000</td>\n",
              "      <td>3.000000</td>\n",
              "      <td>44058.750000</td>\n",
              "      <td>66.000000</td>\n",
              "    </tr>\n",
              "    <tr>\n",
              "      <th>50%</th>\n",
              "      <td>26.000000</td>\n",
              "      <td>16.000000</td>\n",
              "      <td>3.000000</td>\n",
              "      <td>3.000000</td>\n",
              "      <td>50596.500000</td>\n",
              "      <td>94.000000</td>\n",
              "    </tr>\n",
              "    <tr>\n",
              "      <th>75%</th>\n",
              "      <td>33.000000</td>\n",
              "      <td>16.000000</td>\n",
              "      <td>4.000000</td>\n",
              "      <td>4.000000</td>\n",
              "      <td>58668.000000</td>\n",
              "      <td>114.750000</td>\n",
              "    </tr>\n",
              "    <tr>\n",
              "      <th>max</th>\n",
              "      <td>50.000000</td>\n",
              "      <td>21.000000</td>\n",
              "      <td>7.000000</td>\n",
              "      <td>5.000000</td>\n",
              "      <td>104581.000000</td>\n",
              "      <td>360.000000</td>\n",
              "    </tr>\n",
              "  </tbody>\n",
              "</table>\n",
              "</div>\n",
              "    <div class=\"colab-df-buttons\">\n",
              "\n",
              "  <div class=\"colab-df-container\">\n",
              "    <button class=\"colab-df-convert\" onclick=\"convertToInteractive('df-1e092ad7-a430-4211-b2bc-1cdbe2edb354')\"\n",
              "            title=\"Convert this dataframe to an interactive table.\"\n",
              "            style=\"display:none;\">\n",
              "\n",
              "  <svg xmlns=\"http://www.w3.org/2000/svg\" height=\"24px\" viewBox=\"0 -960 960 960\">\n",
              "    <path d=\"M120-120v-720h720v720H120Zm60-500h600v-160H180v160Zm220 220h160v-160H400v160Zm0 220h160v-160H400v160ZM180-400h160v-160H180v160Zm440 0h160v-160H620v160ZM180-180h160v-160H180v160Zm440 0h160v-160H620v160Z\"/>\n",
              "  </svg>\n",
              "    </button>\n",
              "\n",
              "  <style>\n",
              "    .colab-df-container {\n",
              "      display:flex;\n",
              "      gap: 12px;\n",
              "    }\n",
              "\n",
              "    .colab-df-convert {\n",
              "      background-color: #E8F0FE;\n",
              "      border: none;\n",
              "      border-radius: 50%;\n",
              "      cursor: pointer;\n",
              "      display: none;\n",
              "      fill: #1967D2;\n",
              "      height: 32px;\n",
              "      padding: 0 0 0 0;\n",
              "      width: 32px;\n",
              "    }\n",
              "\n",
              "    .colab-df-convert:hover {\n",
              "      background-color: #E2EBFA;\n",
              "      box-shadow: 0px 1px 2px rgba(60, 64, 67, 0.3), 0px 1px 3px 1px rgba(60, 64, 67, 0.15);\n",
              "      fill: #174EA6;\n",
              "    }\n",
              "\n",
              "    .colab-df-buttons div {\n",
              "      margin-bottom: 4px;\n",
              "    }\n",
              "\n",
              "    [theme=dark] .colab-df-convert {\n",
              "      background-color: #3B4455;\n",
              "      fill: #D2E3FC;\n",
              "    }\n",
              "\n",
              "    [theme=dark] .colab-df-convert:hover {\n",
              "      background-color: #434B5C;\n",
              "      box-shadow: 0px 1px 3px 1px rgba(0, 0, 0, 0.15);\n",
              "      filter: drop-shadow(0px 1px 2px rgba(0, 0, 0, 0.3));\n",
              "      fill: #FFFFFF;\n",
              "    }\n",
              "  </style>\n",
              "\n",
              "    <script>\n",
              "      const buttonEl =\n",
              "        document.querySelector('#df-1e092ad7-a430-4211-b2bc-1cdbe2edb354 button.colab-df-convert');\n",
              "      buttonEl.style.display =\n",
              "        google.colab.kernel.accessAllowed ? 'block' : 'none';\n",
              "\n",
              "      async function convertToInteractive(key) {\n",
              "        const element = document.querySelector('#df-1e092ad7-a430-4211-b2bc-1cdbe2edb354');\n",
              "        const dataTable =\n",
              "          await google.colab.kernel.invokeFunction('convertToInteractive',\n",
              "                                                    [key], {});\n",
              "        if (!dataTable) return;\n",
              "\n",
              "        const docLinkHtml = 'Like what you see? Visit the ' +\n",
              "          '<a target=\"_blank\" href=https://colab.research.google.com/notebooks/data_table.ipynb>data table notebook</a>'\n",
              "          + ' to learn more about interactive tables.';\n",
              "        element.innerHTML = '';\n",
              "        dataTable['output_type'] = 'display_data';\n",
              "        await google.colab.output.renderOutput(dataTable, element);\n",
              "        const docLink = document.createElement('div');\n",
              "        docLink.innerHTML = docLinkHtml;\n",
              "        element.appendChild(docLink);\n",
              "      }\n",
              "    </script>\n",
              "  </div>\n",
              "\n",
              "\n",
              "<div id=\"df-ddbaa4ff-4c2a-4615-938b-34871032744e\">\n",
              "  <button class=\"colab-df-quickchart\" onclick=\"quickchart('df-ddbaa4ff-4c2a-4615-938b-34871032744e')\"\n",
              "            title=\"Suggest charts\"\n",
              "            style=\"display:none;\">\n",
              "\n",
              "<svg xmlns=\"http://www.w3.org/2000/svg\" height=\"24px\"viewBox=\"0 0 24 24\"\n",
              "     width=\"24px\">\n",
              "    <g>\n",
              "        <path d=\"M19 3H5c-1.1 0-2 .9-2 2v14c0 1.1.9 2 2 2h14c1.1 0 2-.9 2-2V5c0-1.1-.9-2-2-2zM9 17H7v-7h2v7zm4 0h-2V7h2v10zm4 0h-2v-4h2v4z\"/>\n",
              "    </g>\n",
              "</svg>\n",
              "  </button>\n",
              "\n",
              "<style>\n",
              "  .colab-df-quickchart {\n",
              "      --bg-color: #E8F0FE;\n",
              "      --fill-color: #1967D2;\n",
              "      --hover-bg-color: #E2EBFA;\n",
              "      --hover-fill-color: #174EA6;\n",
              "      --disabled-fill-color: #AAA;\n",
              "      --disabled-bg-color: #DDD;\n",
              "  }\n",
              "\n",
              "  [theme=dark] .colab-df-quickchart {\n",
              "      --bg-color: #3B4455;\n",
              "      --fill-color: #D2E3FC;\n",
              "      --hover-bg-color: #434B5C;\n",
              "      --hover-fill-color: #FFFFFF;\n",
              "      --disabled-bg-color: #3B4455;\n",
              "      --disabled-fill-color: #666;\n",
              "  }\n",
              "\n",
              "  .colab-df-quickchart {\n",
              "    background-color: var(--bg-color);\n",
              "    border: none;\n",
              "    border-radius: 50%;\n",
              "    cursor: pointer;\n",
              "    display: none;\n",
              "    fill: var(--fill-color);\n",
              "    height: 32px;\n",
              "    padding: 0;\n",
              "    width: 32px;\n",
              "  }\n",
              "\n",
              "  .colab-df-quickchart:hover {\n",
              "    background-color: var(--hover-bg-color);\n",
              "    box-shadow: 0 1px 2px rgba(60, 64, 67, 0.3), 0 1px 3px 1px rgba(60, 64, 67, 0.15);\n",
              "    fill: var(--button-hover-fill-color);\n",
              "  }\n",
              "\n",
              "  .colab-df-quickchart-complete:disabled,\n",
              "  .colab-df-quickchart-complete:disabled:hover {\n",
              "    background-color: var(--disabled-bg-color);\n",
              "    fill: var(--disabled-fill-color);\n",
              "    box-shadow: none;\n",
              "  }\n",
              "\n",
              "  .colab-df-spinner {\n",
              "    border: 2px solid var(--fill-color);\n",
              "    border-color: transparent;\n",
              "    border-bottom-color: var(--fill-color);\n",
              "    animation:\n",
              "      spin 1s steps(1) infinite;\n",
              "  }\n",
              "\n",
              "  @keyframes spin {\n",
              "    0% {\n",
              "      border-color: transparent;\n",
              "      border-bottom-color: var(--fill-color);\n",
              "      border-left-color: var(--fill-color);\n",
              "    }\n",
              "    20% {\n",
              "      border-color: transparent;\n",
              "      border-left-color: var(--fill-color);\n",
              "      border-top-color: var(--fill-color);\n",
              "    }\n",
              "    30% {\n",
              "      border-color: transparent;\n",
              "      border-left-color: var(--fill-color);\n",
              "      border-top-color: var(--fill-color);\n",
              "      border-right-color: var(--fill-color);\n",
              "    }\n",
              "    40% {\n",
              "      border-color: transparent;\n",
              "      border-right-color: var(--fill-color);\n",
              "      border-top-color: var(--fill-color);\n",
              "    }\n",
              "    60% {\n",
              "      border-color: transparent;\n",
              "      border-right-color: var(--fill-color);\n",
              "    }\n",
              "    80% {\n",
              "      border-color: transparent;\n",
              "      border-right-color: var(--fill-color);\n",
              "      border-bottom-color: var(--fill-color);\n",
              "    }\n",
              "    90% {\n",
              "      border-color: transparent;\n",
              "      border-bottom-color: var(--fill-color);\n",
              "    }\n",
              "  }\n",
              "</style>\n",
              "\n",
              "  <script>\n",
              "    async function quickchart(key) {\n",
              "      const quickchartButtonEl =\n",
              "        document.querySelector('#' + key + ' button');\n",
              "      quickchartButtonEl.disabled = true;  // To prevent multiple clicks.\n",
              "      quickchartButtonEl.classList.add('colab-df-spinner');\n",
              "      try {\n",
              "        const charts = await google.colab.kernel.invokeFunction(\n",
              "            'suggestCharts', [key], {});\n",
              "      } catch (error) {\n",
              "        console.error('Error during call to suggestCharts:', error);\n",
              "      }\n",
              "      quickchartButtonEl.classList.remove('colab-df-spinner');\n",
              "      quickchartButtonEl.classList.add('colab-df-quickchart-complete');\n",
              "    }\n",
              "    (() => {\n",
              "      let quickchartButtonEl =\n",
              "        document.querySelector('#df-ddbaa4ff-4c2a-4615-938b-34871032744e button');\n",
              "      quickchartButtonEl.style.display =\n",
              "        google.colab.kernel.accessAllowed ? 'block' : 'none';\n",
              "    })();\n",
              "  </script>\n",
              "</div>\n",
              "\n",
              "    </div>\n",
              "  </div>\n"
            ],
            "text/plain": [
              "              Age   Education       Usage     Fitness         Income  \\\n",
              "count  180.000000  180.000000  180.000000  180.000000     180.000000   \n",
              "mean    28.788889   15.572222    3.455556    3.311111   53719.577778   \n",
              "std      6.943498    1.617055    1.084797    0.958869   16506.684226   \n",
              "min     18.000000   12.000000    2.000000    1.000000   29562.000000   \n",
              "25%     24.000000   14.000000    3.000000    3.000000   44058.750000   \n",
              "50%     26.000000   16.000000    3.000000    3.000000   50596.500000   \n",
              "75%     33.000000   16.000000    4.000000    4.000000   58668.000000   \n",
              "max     50.000000   21.000000    7.000000    5.000000  104581.000000   \n",
              "\n",
              "            Miles  \n",
              "count  180.000000  \n",
              "mean   103.194444  \n",
              "std     51.863605  \n",
              "min     21.000000  \n",
              "25%     66.000000  \n",
              "50%     94.000000  \n",
              "75%    114.750000  \n",
              "max    360.000000  "
            ]
          },
          "execution_count": 207,
          "metadata": {},
          "output_type": "execute_result"
        }
      ],
      "source": [
        "df.describe()#provide statistical summary of numerical columns by default"
      ]
    },
    {
      "cell_type": "markdown",
      "metadata": {
        "id": "ItBTfp2eVcvS"
      },
      "source": [
        "Inferences from above data:\n",
        "\n",
        "Age:\n",
        "\n",
        "*  Average age of customers is around 28.8 years old.\n",
        "*   Customers range from 18 to 50 years old.\n",
        "*   The majority of customers are in their 20s and 30s\n",
        "\n",
        "Education:\n",
        "\n",
        "*   Customers have an average of 15.6 years of education.\n",
        "*   The education level ranges from 12 to 21 years.\n",
        "*   Most customers have 14 to 16 years of education.\n",
        "\n",
        "Usage:\n",
        "\n",
        "*   Customers plan to use the treadmill about 3.5 times per week on average.\n",
        "*   Usage varies from 2 to 7 times per week.\n",
        "*   Most customers plan to use the treadmill 3 to 4 times per week.\n",
        "\n",
        "Fitness:\n",
        "\n",
        "*   Customers rate their fitness level around 3.3 on average.\n",
        "*   Fitness levels range from 1 (poor shape) to 5 (excellent shape).\n",
        "*   Most customers rate their fitness around 3.\n",
        "\n",
        "Income:\n",
        "\n",
        "*   The average annual income of customers is around $53,719\n",
        "\n",
        "*   Incomes vary from $29,562 to $104,581.\n",
        "*   The income distribution is skewed to the right, with higher incomes having more variability.\n",
        "\n",
        "Miles:\n",
        "\n",
        "*   Customers expect to run/walk an average of 103.2 miles per week.\n",
        "*   Expected mileage ranges from 21 to 360 miles per week.\n",
        "*   The mileage distribution is also skewed to the right, indicating some customers plan to run/walk significantly more miles than others.\n"
      ]
    },
    {
      "cell_type": "markdown",
      "metadata": {
        "id": "iQY0ueFJbkw_"
      },
      "source": [
        "**Detecting Outliers**"
      ]
    },
    {
      "cell_type": "code",
      "execution_count": null,
      "metadata": {
        "colab": {
          "background_save": true,
          "base_uri": "https://localhost:8080/"
        },
        "id": "4bNFLC1t92a3",
        "outputId": "4590e7d8-5f5c-4534-a850-1f5a1a7ba483"
      },
      "outputs": [
        {
          "name": "stdout",
          "output_type": "stream",
          "text": [
            "upper_bound= 46.5\n",
            "lower_bound= 10.5\n",
            "Outliers are :  [47 50 48 47 48]\n"
          ]
        }
      ],
      "source": [
        "#identifying outliers for every continuous variable in the dataset using IQR method\n",
        "#In Age column\n",
        "q1 = df['Age'].quantile(0.25)#first quartile (25th percentile)\n",
        "q3 = df['Age'].quantile(0.75) #third quartile (75th percentile)\n",
        "\n",
        "\n",
        "iqr = q3-q1# interquartile range (IQR).\n",
        "\n",
        "ub = q3 + 1.5*iqr# upper bound\n",
        "lb = q1 - 1.5*iqr#lower bound\n",
        "\n",
        "print('upper_bound=',ub)\n",
        "print('lower_bound=',lb)\n",
        "# data points that fall below the lower bound or above the upper bound are identified as outliers\n",
        "outliers=df[(df['Age'] < lb) | (df['Age'] > ub)]\n",
        "print(\"Outliers are : \",outliers['Age'].values)\n"
      ]
    },
    {
      "cell_type": "code",
      "execution_count": null,
      "metadata": {
        "colab": {
          "background_save": true,
          "base_uri": "https://localhost:8080/",
          "height": 564
        },
        "id": "D9byvHm0Vaf2",
        "outputId": "85fa55b9-47f3-4ce4-9705-e35da32a80d4"
      },
      "outputs": [
        {
          "data": {
            "image/png": "[encoded data removed]",
            "text/plain": [
              "<Figure size 800x600 with 1 Axes>"
            ]
          },
          "metadata": {},
          "output_type": "display_data"
        }
      ],
      "source": [
        "#Plotting Boxplot\n",
        "plt.figure(figsize=(8, 6))\n",
        "sns.boxplot(x=df['Age'])\n",
        "plt.title(f'Boxplot of Age Column')\n",
        "plt.show()"
      ]
    },
    {
      "cell_type": "code",
      "execution_count": null,
      "metadata": {
        "colab": {
          "background_save": true,
          "base_uri": "https://localhost:8080/"
        },
        "id": "FGPJPzh6XH0i",
        "outputId": "1b4d6c7c-092f-4639-dfa7-8463df4d06e1"
      },
      "outputs": [
        {
          "name": "stdout",
          "output_type": "stream",
          "text": [
            "upper_bound= 19.0\n",
            "lower_bound= 11.0\n",
            "Outliers are :  [20 21 21 21]\n"
          ]
        }
      ],
      "source": [
        "#In Education column\n",
        "q1 = df['Education'].quantile(0.25)#first quartile (25th percentile)\n",
        "q3 = df['Education'].quantile(0.75) #third quartile (75th percentile)\n",
        "\n",
        "\n",
        "iqr = q3-q1# interquartile range (IQR).\n",
        "\n",
        "ub = q3 + 1.5*iqr# upper bound\n",
        "lb = q1 - 1.5*iqr#lower bound\n",
        "\n",
        "print('upper_bound=',ub)\n",
        "print('lower_bound=',lb)\n",
        "# data points that fall below the lower bound or above the upper bound are identified as outliers\n",
        "outliers=df[(df['Education'] < lb) | (df['Education'] > ub)]\n",
        "print(\"Outliers are : \",outliers['Education'].values)\n"
      ]
    },
    {
      "cell_type": "code",
      "execution_count": null,
      "metadata": {
        "colab": {
          "background_save": true,
          "base_uri": "https://localhost:8080/",
          "height": 564
        },
        "id": "haXiaW3RXTvM",
        "outputId": "21633ac2-2941-4a07-822b-a9d6f5f91ebd"
      },
      "outputs": [
        {
          "data": {
            "image/png": "[encoded data removed]",
            "text/plain": [
              "<Figure size 800x600 with 1 Axes>"
            ]
          },
          "metadata": {},
          "output_type": "display_data"
        }
      ],
      "source": [
        "#Plotting Boxplot\n",
        "plt.figure(figsize=(8, 6))\n",
        "sns.boxplot(x=df['Education'])\n",
        "plt.title(f'Boxplot of Education Column')\n",
        "plt.show()"
      ]
    },
    {
      "cell_type": "code",
      "execution_count": null,
      "metadata": {
        "colab": {
          "background_save": true,
          "base_uri": "https://localhost:8080/"
        },
        "id": "iKUT-gxZXc5I",
        "outputId": "bc20cc27-04de-4d9a-9065-7fb1896e55e1"
      },
      "outputs": [
        {
          "name": "stdout",
          "output_type": "stream",
          "text": [
            "upper_bound= 5.5\n",
            "lower_bound= 1.5\n",
            "Outliers are :  [6 6 6 7 6 7 6 6 6]\n"
          ]
        }
      ],
      "source": [
        "#In Usage column\n",
        "q1 = df['Usage'].quantile(0.25)#first quartile (25th percentile)\n",
        "q3 = df['Usage'].quantile(0.75) #third quartile (75th percentile)\n",
        "\n",
        "\n",
        "iqr = q3-q1# interquartile range (IQR).\n",
        "\n",
        "ub = q3 + 1.5*iqr# upper bound\n",
        "lb = q1 - 1.5*iqr#lower bound\n",
        "\n",
        "print('upper_bound=',ub)\n",
        "print('lower_bound=',lb)\n",
        "# data points that fall below the lower bound or above the upper bound are identified as outliers\n",
        "outliers=df[(df['Usage'] < lb) | (df['Usage'] > ub)]\n",
        "print(\"Outliers are : \",outliers['Usage'].values)\n"
      ]
    },
    {
      "cell_type": "code",
      "execution_count": null,
      "metadata": {
        "colab": {
          "background_save": true,
          "base_uri": "https://localhost:8080/",
          "height": 564
        },
        "id": "IshYm92EXdxl",
        "outputId": "857c34f5-13d2-43f5-cf99-aba8ee4b24b3"
      },
      "outputs": [
        {
          "data": {
            "image/png": "[encoded data removed]",
            "text/plain": [
              "<Figure size 800x600 with 1 Axes>"
            ]
          },
          "metadata": {},
          "output_type": "display_data"
        }
      ],
      "source": [
        "#Plotting Boxplot\n",
        "plt.figure(figsize=(8, 6))\n",
        "sns.boxplot(x=df['Usage'])\n",
        "plt.title(f'Boxplot of Usage Column')\n",
        "plt.show()"
      ]
    },
    {
      "cell_type": "code",
      "execution_count": null,
      "metadata": {
        "colab": {
          "background_save": true,
          "base_uri": "https://localhost:8080/"
        },
        "id": "05dROYPLXdt8",
        "outputId": "4350709d-2f95-4813-f7cc-b0cb94237c32"
      },
      "outputs": [
        {
          "name": "stdout",
          "output_type": "stream",
          "text": [
            "upper_bound= 5.5\n",
            "lower_bound= 1.5\n",
            "Outliers are :  [1 1]\n"
          ]
        }
      ],
      "source": [
        "#In Fitness column\n",
        "q1 = df['Fitness'].quantile(0.25)#first quartile (25th percentile)\n",
        "q3 = df['Fitness'].quantile(0.75) #third quartile (75th percentile)\n",
        "\n",
        "\n",
        "iqr = q3-q1# interquartile range (IQR).\n",
        "\n",
        "ub = q3 + 1.5*iqr# upper bound\n",
        "lb = q1 - 1.5*iqr#lower bound\n",
        "\n",
        "print('upper_bound=',ub)\n",
        "print('lower_bound=',lb)\n",
        "# data points that fall below the lower bound or above the upper bound are identified as outliers\n",
        "outliers=df[(df['Fitness'] < lb) | (df['Fitness'] > ub)]\n",
        "print(\"Outliers are : \",outliers['Fitness'].values)\n"
      ]
    },
    {
      "cell_type": "code",
      "execution_count": null,
      "metadata": {
        "colab": {
          "background_save": true,
          "base_uri": "https://localhost:8080/",
          "height": 564
        },
        "id": "Nr-Uzo4BXdqn",
        "outputId": "7190ce9a-2706-4968-cc1d-daec1c866082"
      },
      "outputs": [
        {
          "data": {
            "image/png": "[encoded data removed]",
            "text/plain": [
              "<Figure size 800x600 with 1 Axes>"
            ]
          },
          "metadata": {},
          "output_type": "display_data"
        }
      ],
      "source": [
        "#Plotting Boxplot\n",
        "plt.figure(figsize=(8, 6))\n",
        "sns.boxplot(x=df['Fitness'])\n",
        "plt.title(f'Boxplot of Fitness Column')\n",
        "plt.show()"
      ]
    },
    {
      "cell_type": "code",
      "execution_count": null,
      "metadata": {
        "colab": {
          "background_save": true,
          "base_uri": "https://localhost:8080/"
        },
        "id": "xcf7yzSOXdm8",
        "outputId": "085e742c-dde4-474b-d49c-dbaecb8c0d25"
      },
      "outputs": [
        {
          "name": "stdout",
          "output_type": "stream",
          "text": [
            "upper_bound= 80581.875\n",
            "lower_bound= 22144.875\n",
            "Outliers are :  [ 83416  88396  90886  92131  88396  85906  90886 103336  99601  89641\n",
            "  95866  92131  92131 104581  83416  89641  90886 104581  95508]\n"
          ]
        }
      ],
      "source": [
        "#In Income column\n",
        "q1 = df['Income'].quantile(0.25)#first quartile (25th percentile)\n",
        "q3 = df['Income'].quantile(0.75) #third quartile (75th percentile)\n",
        "\n",
        "\n",
        "iqr = q3-q1# interquartile range (IQR).\n",
        "\n",
        "ub = q3 + 1.5*iqr# upper bound\n",
        "lb = q1 - 1.5*iqr#lower bound\n",
        "\n",
        "print('upper_bound=',ub)\n",
        "print('lower_bound=',lb)\n",
        "# data points that fall below the lower bound or above the upper bound are identified as outliers\n",
        "outliers=df[(df['Income'] < lb) | (df['Income'] > ub)]\n",
        "print(\"Outliers are : \",outliers['Income'].values)\n"
      ]
    },
    {
      "cell_type": "code",
      "execution_count": null,
      "metadata": {
        "colab": {
          "background_save": true,
          "base_uri": "https://localhost:8080/",
          "height": 564
        },
        "id": "qk4B3lI2Xdjj",
        "outputId": "3be4d575-e224-4392-fb11-a82d607d097f"
      },
      "outputs": [
        {
          "data": {
            "image/png": "[encoded data removed]",
            "text/plain": [
              "<Figure size 800x600 with 1 Axes>"
            ]
          },
          "metadata": {},
          "output_type": "display_data"
        }
      ],
      "source": [
        "#Plotting Boxplot\n",
        "plt.figure(figsize=(8, 6))\n",
        "sns.boxplot(x=df['Income'])\n",
        "plt.title(f'Boxplot of Income Column')\n",
        "plt.show()"
      ]
    },
    {
      "cell_type": "code",
      "execution_count": null,
      "metadata": {
        "colab": {
          "background_save": true,
          "base_uri": "https://localhost:8080/"
        },
        "id": "4Myp7xq4XdgP",
        "outputId": "6e02d9ae-6dcf-49e5-e442-f346f2d4889d"
      },
      "outputs": [
        {
          "name": "stdout",
          "output_type": "stream",
          "text": [
            "upper_bound= 187.875\n",
            "lower_bound= -7.125\n",
            "Outliers are :  [188 212 200 200 200 240 300 280 260 200 360 200 200]\n"
          ]
        }
      ],
      "source": [
        "#In Miles column\n",
        "q1 = df['Miles'].quantile(0.25)#first quartile (25th percentile)\n",
        "q3 = df['Miles'].quantile(0.75) #third quartile (75th percentile)\n",
        "\n",
        "\n",
        "iqr = q3-q1# interquartile range (IQR).\n",
        "\n",
        "ub = q3 + 1.5*iqr# upper bound\n",
        "lb = q1 - 1.5*iqr#lower bound\n",
        "\n",
        "print('upper_bound=',ub)\n",
        "print('lower_bound=',lb)\n",
        "# data points that fall below the lower bound or above the upper bound are identified as outliers\n",
        "outliers=df[(df['Miles'] < lb) | (df['Miles'] > ub)]\n",
        "print(\"Outliers are : \",outliers['Miles'].values)\n"
      ]
    },
    {
      "cell_type": "code",
      "execution_count": null,
      "metadata": {
        "colab": {
          "background_save": true,
          "base_uri": "https://localhost:8080/",
          "height": 564
        },
        "id": "r_VZst__XdaL",
        "outputId": "7e74fefa-4887-4a2c-826d-1574ec778c9d"
      },
      "outputs": [
        {
          "data": {
            "image/png": "[encoded data removed]",
            "text/plain": [
              "<Figure size 800x600 with 1 Axes>"
            ]
          },
          "metadata": {},
          "output_type": "display_data"
        }
      ],
      "source": [
        "#Plotting Boxplot\n",
        "plt.figure(figsize=(8, 6))\n",
        "sns.boxplot(x=df['Miles'])\n",
        "plt.title(f'Boxplot of Miles Column')\n",
        "plt.show()"
      ]
    },
    {
      "cell_type": "code",
      "execution_count": null,
      "metadata": {
        "colab": {
          "background_save": true
        },
        "id": "16U4tdrocJkZ"
      },
      "outputs": [],
      "source": [
        "#Handling Outliers\n",
        "#Remove/clip the data between the 5 percentile and 95 percentile\n",
        "continuous_vars = ['Age', 'Education', 'Usage', 'Fitness', 'Income', 'Miles']\n",
        "\n",
        "for column in continuous_vars:\n",
        "    # Calculate the 5th and 95th percentiles\n",
        "    lower_limit = np.percentile(df[column], 5)\n",
        "    upper_limit = np.percentile(df[column], 95)\n",
        "\n",
        "    # Clip the data\n",
        "    df[column] = np.clip(df[column], lower_limit, upper_limit)\n",
        "#If any value is less than lower_limit, it will be replaced with lower_limit(5th percentile value)\n",
        "#If any value is greater than upper_limit, it will be replaced with upper_limit(95th percentile value)"
      ]
    },
    {
      "cell_type": "code",
      "execution_count": null,
      "metadata": {
        "colab": {
          "background_save": true,
          "base_uri": "https://localhost:8080/",
          "height": 1000
        },
        "id": "wu8nA2XWfUS8",
        "outputId": "1b6d03de-b6d8-4f66-b676-7afb4fee483d"
      },
      "outputs": [
        {
          "data": {
            "image/png": "[encoded data removed]",
            "text/plain": [
              "<Figure size 800x600 with 1 Axes>"
            ]
          },
          "metadata": {},
          "output_type": "display_data"
        },
        {
          "data": {
            "image/png": "[encoded data removed]",
            "text/plain": [
              "<Figure size 800x600 with 1 Axes>"
            ]
          },
          "metadata": {},
          "output_type": "display_data"
        },
        {
          "data": {
            "image/png": "[encoded data removed]",
            "text/plain": [
              "<Figure size 800x600 with 1 Axes>"
            ]
          },
          "metadata": {},
          "output_type": "display_data"
        },
        {
          "data": {
            "image/png": "[encoded data removed]",
            "text/plain": [
              "<Figure size 800x600 with 1 Axes>"
            ]
          },
          "metadata": {},
          "output_type": "display_data"
        },
        {
          "data": {
            "image/png": "[encoded data removed]",
            "text/plain": [
              "<Figure size 800x600 with 1 Axes>"
            ]
          },
          "metadata": {},
          "output_type": "display_data"
        },
        {
          "data": {
            "image/png": "[encoded data removed]",
            "text/plain": [
              "<Figure size 800x600 with 1 Axes>"
            ]
          },
          "metadata": {},
          "output_type": "display_data"
        }
      ],
      "source": [
        "#Plotting boxplots for after Clipping(Removing) of Outliers between the 5 percentile and 95 percentile\n",
        "import seaborn as sns\n",
        "import matplotlib.pyplot as plt\n",
        "\n",
        "continuous_vars = ['Age', 'Education', 'Usage', 'Fitness', 'Income', 'Miles']\n",
        "\n",
        "for column in continuous_vars:\n",
        "    plt.figure(figsize=(8, 6))\n",
        "    sns.boxplot(x=df[column])\n",
        "    plt.title(f'Boxplot of {column} after Clipping')\n",
        "    plt.show()"
      ]
    },
    {
      "cell_type": "code",
      "execution_count": null,
      "metadata": {
        "colab": {
          "background_save": true,
          "base_uri": "https://localhost:8080/",
          "height": 300
        },
        "id": "T-as7WThf5XT",
        "outputId": "8af8d072-0596-43ee-c11b-b205f0be9859"
      },
      "outputs": [
        {
          "data": {
            "application/vnd.google.colaboratory.intrinsic+json": {
              "summary": "{\n  \"name\": \"df\",\n  \"rows\": 8,\n  \"fields\": [\n    {\n      \"column\": \"Age\",\n      \"properties\": {\n        \"dtype\": \"number\",\n        \"std\": 55.48954472893547,\n        \"min\": 6.446372741619754,\n        \"max\": 180.0,\n        \"num_unique_values\": 8,\n        \"samples\": [\n          28.641388888888894,\n          26.0,\n          180.0\n        ],\n        \"semantic_type\": \"\",\n        \"description\": \"\"\n      }\n    },\n    {\n      \"column\": \"Education\",\n      \"properties\": {\n        \"dtype\": \"number\",\n        \"std\": 59.06865825398067,\n        \"min\": 1.3620168891050215,\n        \"max\": 180.0,\n        \"num_unique_values\": 6,\n        \"samples\": [\n          180.0,\n          15.572222222222223,\n          18.0\n        ],\n        \"semantic_type\": \"\",\n        \"description\": \"\"\n      }\n    },\n    {\n      \"column\": \"Usage\",\n      \"properties\": {\n        \"dtype\": \"number\",\n        \"std\": 62.57078638239532,\n        \"min\": 0.9526816589318023,\n        \"max\": 180.0,\n        \"num_unique_values\": 7,\n        \"samples\": [\n          180.0,\n          3.3969444444444434,\n          4.0\n        ],\n        \"semantic_type\": \"\",\n        \"description\": \"\"\n      }\n    },\n    {\n      \"column\": \"Fitness\",\n      \"properties\": {\n        \"dtype\": \"number\",\n        \"std\": 62.57764717870464,\n        \"min\": 0.9374609447689553,\n        \"max\": 180.0,\n        \"num_unique_values\": 7,\n        \"samples\": [\n          180.0,\n          3.3222222222222224,\n          4.0\n        ],\n        \"semantic_type\": \"\",\n        \"description\": \"\"\n      }\n    },\n    {\n      \"column\": \"Income\",\n      \"properties\": {\n        \"dtype\": \"number\",\n        \"std\": 27732.09135285477,\n        \"min\": 180.0,\n        \"max\": 90948.24999999999,\n        \"num_unique_values\": 8,\n        \"samples\": [\n          53477.07000000001,\n          50596.5,\n          180.0\n        ],\n        \"semantic_type\": \"\",\n        \"description\": \"\"\n      }\n    },\n    {\n      \"column\": \"Miles\",\n      \"properties\": {\n        \"dtype\": \"number\",\n        \"std\": 58.01540505721032,\n        \"min\": 43.364286323741965,\n        \"max\": 200.0,\n        \"num_unique_values\": 8,\n        \"samples\": [\n          101.08888888888889,\n          94.0,\n          180.0\n        ],\n        \"semantic_type\": \"\",\n        \"description\": \"\"\n      }\n    }\n  ]\n}",
              "type": "dataframe"
            },
            "text/html": [
              "\n",
              "  <div id=\"df-324ecf01-3289-4268-b823-3da8ee3a688a\" class=\"colab-df-container\">\n",
              "    <div>\n",
              "<style scoped>\n",
              "    .dataframe tbody tr th:only-of-type {\n",
              "        vertical-align: middle;\n",
              "    }\n",
              "\n",
              "    .dataframe tbody tr th {\n",
              "        vertical-align: top;\n",
              "    }\n",
              "\n",
              "    .dataframe thead th {\n",
              "        text-align: right;\n",
              "    }\n",
              "</style>\n",
              "<table border=\"1\" class=\"dataframe\">\n",
              "  <thead>\n",
              "    <tr style=\"text-align: right;\">\n",
              "      <th></th>\n",
              "      <th>Age</th>\n",
              "      <th>Education</th>\n",
              "      <th>Usage</th>\n",
              "      <th>Fitness</th>\n",
              "      <th>Income</th>\n",
              "      <th>Miles</th>\n",
              "    </tr>\n",
              "  </thead>\n",
              "  <tbody>\n",
              "    <tr>\n",
              "      <th>count</th>\n",
              "      <td>180.000000</td>\n",
              "      <td>180.000000</td>\n",
              "      <td>180.000000</td>\n",
              "      <td>180.000000</td>\n",
              "      <td>180.000000</td>\n",
              "      <td>180.000000</td>\n",
              "    </tr>\n",
              "    <tr>\n",
              "      <th>mean</th>\n",
              "      <td>28.641389</td>\n",
              "      <td>15.572222</td>\n",
              "      <td>3.396944</td>\n",
              "      <td>3.322222</td>\n",
              "      <td>53477.070000</td>\n",
              "      <td>101.088889</td>\n",
              "    </tr>\n",
              "    <tr>\n",
              "      <th>std</th>\n",
              "      <td>6.446373</td>\n",
              "      <td>1.362017</td>\n",
              "      <td>0.952682</td>\n",
              "      <td>0.937461</td>\n",
              "      <td>15463.662523</td>\n",
              "      <td>43.364286</td>\n",
              "    </tr>\n",
              "    <tr>\n",
              "      <th>min</th>\n",
              "      <td>20.000000</td>\n",
              "      <td>14.000000</td>\n",
              "      <td>2.000000</td>\n",
              "      <td>2.000000</td>\n",
              "      <td>34053.150000</td>\n",
              "      <td>47.000000</td>\n",
              "    </tr>\n",
              "    <tr>\n",
              "      <th>25%</th>\n",
              "      <td>24.000000</td>\n",
              "      <td>14.000000</td>\n",
              "      <td>3.000000</td>\n",
              "      <td>3.000000</td>\n",
              "      <td>44058.750000</td>\n",
              "      <td>66.000000</td>\n",
              "    </tr>\n",
              "    <tr>\n",
              "      <th>50%</th>\n",
              "      <td>26.000000</td>\n",
              "      <td>16.000000</td>\n",
              "      <td>3.000000</td>\n",
              "      <td>3.000000</td>\n",
              "      <td>50596.500000</td>\n",
              "      <td>94.000000</td>\n",
              "    </tr>\n",
              "    <tr>\n",
              "      <th>75%</th>\n",
              "      <td>33.000000</td>\n",
              "      <td>16.000000</td>\n",
              "      <td>4.000000</td>\n",
              "      <td>4.000000</td>\n",
              "      <td>58668.000000</td>\n",
              "      <td>114.750000</td>\n",
              "    </tr>\n",
              "    <tr>\n",
              "      <th>max</th>\n",
              "      <td>43.050000</td>\n",
              "      <td>18.000000</td>\n",
              "      <td>5.050000</td>\n",
              "      <td>5.000000</td>\n",
              "      <td>90948.250000</td>\n",
              "      <td>200.000000</td>\n",
              "    </tr>\n",
              "  </tbody>\n",
              "</table>\n",
              "</div>\n",
              "    <div class=\"colab-df-buttons\">\n",
              "\n",
              "  <div class=\"colab-df-container\">\n",
              "    <button class=\"colab-df-convert\" onclick=\"convertToInteractive('df-324ecf01-3289-4268-b823-3da8ee3a688a')\"\n",
              "            title=\"Convert this dataframe to an interactive table.\"\n",
              "            style=\"display:none;\">\n",
              "\n",
              "  <svg xmlns=\"http://www.w3.org/2000/svg\" height=\"24px\" viewBox=\"0 -960 960 960\">\n",
              "    <path d=\"M120-120v-720h720v720H120Zm60-500h600v-160H180v160Zm220 220h160v-160H400v160Zm0 220h160v-160H400v160ZM180-400h160v-160H180v160Zm440 0h160v-160H620v160ZM180-180h160v-160H180v160Zm440 0h160v-160H620v160Z\"/>\n",
              "  </svg>\n",
              "    </button>\n",
              "\n",
              "  <style>\n",
              "    .colab-df-container {\n",
              "      display:flex;\n",
              "      gap: 12px;\n",
              "    }\n",
              "\n",
              "    .colab-df-convert {\n",
              "      background-color: #E8F0FE;\n",
              "      border: none;\n",
              "      border-radius: 50%;\n",
              "      cursor: pointer;\n",
              "      display: none;\n",
              "      fill: #1967D2;\n",
              "      height: 32px;\n",
              "      padding: 0 0 0 0;\n",
              "      width: 32px;\n",
              "    }\n",
              "\n",
              "    .colab-df-convert:hover {\n",
              "      background-color: #E2EBFA;\n",
              "      box-shadow: 0px 1px 2px rgba(60, 64, 67, 0.3), 0px 1px 3px 1px rgba(60, 64, 67, 0.15);\n",
              "      fill: #174EA6;\n",
              "    }\n",
              "\n",
              "    .colab-df-buttons div {\n",
              "      margin-bottom: 4px;\n",
              "    }\n",
              "\n",
              "    [theme=dark] .colab-df-convert {\n",
              "      background-color: #3B4455;\n",
              "      fill: #D2E3FC;\n",
              "    }\n",
              "\n",
              "    [theme=dark] .colab-df-convert:hover {\n",
              "      background-color: #434B5C;\n",
              "      box-shadow: 0px 1px 3px 1px rgba(0, 0, 0, 0.15);\n",
              "      filter: drop-shadow(0px 1px 2px rgba(0, 0, 0, 0.3));\n",
              "      fill: #FFFFFF;\n",
              "    }\n",
              "  </style>\n",
              "\n",
              "    <script>\n",
              "      const buttonEl =\n",
              "        document.querySelector('#df-324ecf01-3289-4268-b823-3da8ee3a688a button.colab-df-convert');\n",
              "      buttonEl.style.display =\n",
              "        google.colab.kernel.accessAllowed ? 'block' : 'none';\n",
              "\n",
              "      async function convertToInteractive(key) {\n",
              "        const element = document.querySelector('#df-324ecf01-3289-4268-b823-3da8ee3a688a');\n",
              "        const dataTable =\n",
              "          await google.colab.kernel.invokeFunction('convertToInteractive',\n",
              "                                                    [key], {});\n",
              "        if (!dataTable) return;\n",
              "\n",
              "        const docLinkHtml = 'Like what you see? Visit the ' +\n",
              "          '<a target=\"_blank\" href=https://colab.research.google.com/notebooks/data_table.ipynb>data table notebook</a>'\n",
              "          + ' to learn more about interactive tables.';\n",
              "        element.innerHTML = '';\n",
              "        dataTable['output_type'] = 'display_data';\n",
              "        await google.colab.output.renderOutput(dataTable, element);\n",
              "        const docLink = document.createElement('div');\n",
              "        docLink.innerHTML = docLinkHtml;\n",
              "        element.appendChild(docLink);\n",
              "      }\n",
              "    </script>\n",
              "  </div>\n",
              "\n",
              "\n",
              "<div id=\"df-80a9e24a-79cc-44ca-a7f5-5ce75035fed6\">\n",
              "  <button class=\"colab-df-quickchart\" onclick=\"quickchart('df-80a9e24a-79cc-44ca-a7f5-5ce75035fed6')\"\n",
              "            title=\"Suggest charts\"\n",
              "            style=\"display:none;\">\n",
              "\n",
              "<svg xmlns=\"http://www.w3.org/2000/svg\" height=\"24px\"viewBox=\"0 0 24 24\"\n",
              "     width=\"24px\">\n",
              "    <g>\n",
              "        <path d=\"M19 3H5c-1.1 0-2 .9-2 2v14c0 1.1.9 2 2 2h14c1.1 0 2-.9 2-2V5c0-1.1-.9-2-2-2zM9 17H7v-7h2v7zm4 0h-2V7h2v10zm4 0h-2v-4h2v4z\"/>\n",
              "    </g>\n",
              "</svg>\n",
              "  </button>\n",
              "\n",
              "<style>\n",
              "  .colab-df-quickchart {\n",
              "      --bg-color: #E8F0FE;\n",
              "      --fill-color: #1967D2;\n",
              "      --hover-bg-color: #E2EBFA;\n",
              "      --hover-fill-color: #174EA6;\n",
              "      --disabled-fill-color: #AAA;\n",
              "      --disabled-bg-color: #DDD;\n",
              "  }\n",
              "\n",
              "  [theme=dark] .colab-df-quickchart {\n",
              "      --bg-color: #3B4455;\n",
              "      --fill-color: #D2E3FC;\n",
              "      --hover-bg-color: #434B5C;\n",
              "      --hover-fill-color: #FFFFFF;\n",
              "      --disabled-bg-color: #3B4455;\n",
              "      --disabled-fill-color: #666;\n",
              "  }\n",
              "\n",
              "  .colab-df-quickchart {\n",
              "    background-color: var(--bg-color);\n",
              "    border: none;\n",
              "    border-radius: 50%;\n",
              "    cursor: pointer;\n",
              "    display: none;\n",
              "    fill: var(--fill-color);\n",
              "    height: 32px;\n",
              "    padding: 0;\n",
              "    width: 32px;\n",
              "  }\n",
              "\n",
              "  .colab-df-quickchart:hover {\n",
              "    background-color: var(--hover-bg-color);\n",
              "    box-shadow: 0 1px 2px rgba(60, 64, 67, 0.3), 0 1px 3px 1px rgba(60, 64, 67, 0.15);\n",
              "    fill: var(--button-hover-fill-color);\n",
              "  }\n",
              "\n",
              "  .colab-df-quickchart-complete:disabled,\n",
              "  .colab-df-quickchart-complete:disabled:hover {\n",
              "    background-color: var(--disabled-bg-color);\n",
              "    fill: var(--disabled-fill-color);\n",
              "    box-shadow: none;\n",
              "  }\n",
              "\n",
              "  .colab-df-spinner {\n",
              "    border: 2px solid var(--fill-color);\n",
              "    border-color: transparent;\n",
              "    border-bottom-color: var(--fill-color);\n",
              "    animation:\n",
              "      spin 1s steps(1) infinite;\n",
              "  }\n",
              "\n",
              "  @keyframes spin {\n",
              "    0% {\n",
              "      border-color: transparent;\n",
              "      border-bottom-color: var(--fill-color);\n",
              "      border-left-color: var(--fill-color);\n",
              "    }\n",
              "    20% {\n",
              "      border-color: transparent;\n",
              "      border-left-color: var(--fill-color);\n",
              "      border-top-color: var(--fill-color);\n",
              "    }\n",
              "    30% {\n",
              "      border-color: transparent;\n",
              "      border-left-color: var(--fill-color);\n",
              "      border-top-color: var(--fill-color);\n",
              "      border-right-color: var(--fill-color);\n",
              "    }\n",
              "    40% {\n",
              "      border-color: transparent;\n",
              "      border-right-color: var(--fill-color);\n",
              "      border-top-color: var(--fill-color);\n",
              "    }\n",
              "    60% {\n",
              "      border-color: transparent;\n",
              "      border-right-color: var(--fill-color);\n",
              "    }\n",
              "    80% {\n",
              "      border-color: transparent;\n",
              "      border-right-color: var(--fill-color);\n",
              "      border-bottom-color: var(--fill-color);\n",
              "    }\n",
              "    90% {\n",
              "      border-color: transparent;\n",
              "      border-bottom-color: var(--fill-color);\n",
              "    }\n",
              "  }\n",
              "</style>\n",
              "\n",
              "  <script>\n",
              "    async function quickchart(key) {\n",
              "      const quickchartButtonEl =\n",
              "        document.querySelector('#' + key + ' button');\n",
              "      quickchartButtonEl.disabled = true;  // To prevent multiple clicks.\n",
              "      quickchartButtonEl.classList.add('colab-df-spinner');\n",
              "      try {\n",
              "        const charts = await google.colab.kernel.invokeFunction(\n",
              "            'suggestCharts', [key], {});\n",
              "      } catch (error) {\n",
              "        console.error('Error during call to suggestCharts:', error);\n",
              "      }\n",
              "      quickchartButtonEl.classList.remove('colab-df-spinner');\n",
              "      quickchartButtonEl.classList.add('colab-df-quickchart-complete');\n",
              "    }\n",
              "    (() => {\n",
              "      let quickchartButtonEl =\n",
              "        document.querySelector('#df-80a9e24a-79cc-44ca-a7f5-5ce75035fed6 button');\n",
              "      quickchartButtonEl.style.display =\n",
              "        google.colab.kernel.accessAllowed ? 'block' : 'none';\n",
              "    })();\n",
              "  </script>\n",
              "</div>\n",
              "\n",
              "    </div>\n",
              "  </div>\n"
            ],
            "text/plain": [
              "              Age   Education       Usage     Fitness        Income  \\\n",
              "count  180.000000  180.000000  180.000000  180.000000    180.000000   \n",
              "mean    28.641389   15.572222    3.396944    3.322222  53477.070000   \n",
              "std      6.446373    1.362017    0.952682    0.937461  15463.662523   \n",
              "min     20.000000   14.000000    2.000000    2.000000  34053.150000   \n",
              "25%     24.000000   14.000000    3.000000    3.000000  44058.750000   \n",
              "50%     26.000000   16.000000    3.000000    3.000000  50596.500000   \n",
              "75%     33.000000   16.000000    4.000000    4.000000  58668.000000   \n",
              "max     43.050000   18.000000    5.050000    5.000000  90948.250000   \n",
              "\n",
              "            Miles  \n",
              "count  180.000000  \n",
              "mean   101.088889  \n",
              "std     43.364286  \n",
              "min     47.000000  \n",
              "25%     66.000000  \n",
              "50%     94.000000  \n",
              "75%    114.750000  \n",
              "max    200.000000  "
            ]
          },
          "execution_count": 222,
          "metadata": {},
          "output_type": "execute_result"
        }
      ],
      "source": [
        "df.describe()"
      ]
    },
    {
      "cell_type": "markdown",
      "metadata": {
        "id": "1qvht-OGZ_Am"
      },
      "source": [
        "After Clipping, Outliers in Columns Age, Education, Usage, Fitness were removed."
      ]
    },
    {
      "cell_type": "code",
      "execution_count": null,
      "metadata": {
        "colab": {
          "background_save": true,
          "base_uri": "https://localhost:8080/",
          "height": 564
        },
        "id": "Al2YQK1fmkx2",
        "outputId": "8c98e2f6-808a-4e6d-819b-104b53f9776e"
      },
      "outputs": [
        {
          "data": {
            "image/png": "[encoded data removed]",
            "text/plain": [
              "<Figure size 800x600 with 1 Axes>"
            ]
          },
          "metadata": {},
          "output_type": "display_data"
        }
      ],
      "source": [
        "#Check if features like marital status, Gender, and age have any effect on the product purchased\n",
        "#Here the output variable is Product column\n",
        "#Plotting count plot to find the relationship between categorical variables and output variables\n",
        "\n",
        "#Plotting Gender versus products purchased\n",
        "\n",
        "plt.figure(figsize=(8, 6))\n",
        "sns.countplot(x=df['Gender'], hue=df['Product'])\n",
        "plt.title(f'Count Plot of Gender vs Product')\n",
        "plt.show()"
      ]
    },
    {
      "cell_type": "markdown",
      "metadata": {
        "id": "8fTDcrnurD-_"
      },
      "source": [
        "Inferences:\n",
        "\n",
        "*   KP281(entry level treadmill)is equally popular among both males and females, with a slightly higher purchase count for males.\n",
        "*   KP481(mid level treadmill) is also purchased by both genders, but it appears to be more favored by males compared to females.\n",
        "*   KP781(advanced treadmill) shows a clear preference among males. A significantly higher number of males purchased the KP781 compared to females.\n",
        "\n",
        "\n",
        "\n"
      ]
    },
    {
      "cell_type": "code",
      "execution_count": null,
      "metadata": {
        "colab": {
          "background_save": true,
          "base_uri": "https://localhost:8080/",
          "height": 564
        },
        "id": "iZhHcS30q8SI",
        "outputId": "d21c5810-c539-47a3-d0b9-51fd5a4c9d2b"
      },
      "outputs": [
        {
          "data": {
            "image/png": "[encoded data removed]",
            "text/plain": [
              "<Figure size 800x600 with 1 Axes>"
            ]
          },
          "metadata": {},
          "output_type": "display_data"
        }
      ],
      "source": [
        "#Plotting MaritalStatus versus products purchased\n",
        "\n",
        "plt.figure(figsize=(8, 6))\n",
        "sns.countplot(x=df['MaritalStatus'], hue=df['Product'])\n",
        "plt.title(f'Count Plot of MaritalStatus vs Product')\n",
        "plt.show()"
      ]
    },
    {
      "cell_type": "markdown",
      "metadata": {
        "id": "OYy71UQist4u"
      },
      "source": [
        "Inferences:\n",
        "\n",
        "Partnered individuals might be more inclined towards the KP481 and KP781 models, while the KP281 remains a popular choice for both single and partnered customers."
      ]
    },
    {
      "cell_type": "code",
      "execution_count": null,
      "metadata": {
        "colab": {
          "background_save": true
        },
        "id": "ip39kFdKjNgk"
      },
      "outputs": [],
      "source": [
        "#Converting Age column into category type\n",
        "# Define age bins and labels\n",
        "age_bins = [18, 25, 35, 45, 50]\n",
        "age_labels = ['18-24', '25-34', '35-44', '45-50']\n",
        "# Create a new categorical column 'AgeGroup'\n",
        "df['AgeGroup'] = pd.cut(df['Age'], bins=age_bins, labels=age_labels, include_lowest=True)"
      ]
    },
    {
      "cell_type": "code",
      "execution_count": null,
      "metadata": {
        "colab": {
          "background_save": true,
          "base_uri": "https://localhost:8080/",
          "height": 564
        },
        "id": "SXfYYHzvteYF",
        "outputId": "826ec446-f40d-44bf-d30a-3629cb51156c"
      },
      "outputs": [
        {
          "data": {
            "image/png": "[encoded data removed]",
            "text/plain": [
              "<Figure size 800x600 with 1 Axes>"
            ]
          },
          "metadata": {},
          "output_type": "display_data"
        }
      ],
      "source": [
        "#finding relationship between age range and Products purchased\n",
        "plt.figure(figsize=(8, 6))\n",
        "sns.countplot(x=df['AgeGroup'], hue=df['Product'])\n",
        "plt.title(f'Count Plot of AgeGroup vs Product')\n",
        "plt.show()"
      ]
    },
    {
      "cell_type": "markdown",
      "metadata": {
        "id": "hvRABt9vuFFN"
      },
      "source": [
        "Inferences:\n",
        "\n",
        "\n",
        "*   Younger customers (18-34) are more likely to purchase treadmills across all product categories, with a higher inclination towards the mid-level and advanced models.\n",
        "*   As age increases, there's a shift towards the entry-level treadmill (KP281)\n",
        "*   The advanced features of the KP781 seem to resonate with older customers(45-50)\n"
      ]
    },
    {
      "cell_type": "code",
      "execution_count": null,
      "metadata": {
        "colab": {
          "background_save": true,
          "base_uri": "https://localhost:8080/",
          "height": 564
        },
        "id": "uw8Z47xZtsOI",
        "outputId": "e64aa1c1-c53e-439e-8aae-e423d1c85779"
      },
      "outputs": [
        {
          "data": {
            "image/png": "[encoded data removed]",
            "text/plain": [
              "<Figure size 800x600 with 1 Axes>"
            ]
          },
          "metadata": {},
          "output_type": "display_data"
        }
      ],
      "source": [
        "#find the relationship between continuous variables and output variable.\n",
        "\n",
        "#Education vs Product\n",
        "plt.figure(figsize=(8, 6))\n",
        "sns.barplot(x='Education', y='Product', data=df, hue='Product')\n",
        "plt.title('Bar Plot of Education vs Product')\n",
        "plt.show()"
      ]
    },
    {
      "cell_type": "markdown",
      "metadata": {
        "id": "lSm338WpyTvq"
      },
      "source": [
        "Inferences:\n",
        "\n",
        "Customers with lower education levels tend to purchase KP281(entry-level) and KP481(mid-level) treadmills.\n",
        "\n",
        "Customers with higher education levels tend to purchase the KP781 (advanced) treadmill more frequently."
      ]
    },
    {
      "cell_type": "code",
      "execution_count": null,
      "metadata": {
        "colab": {
          "background_save": true,
          "base_uri": "https://localhost:8080/",
          "height": 564
        },
        "id": "PgvEIIg_x1A4",
        "outputId": "7012f912-65f5-4bb7-d9f9-8cb368bfd321"
      },
      "outputs": [
        {
          "data": {
            "image/png": "[encoded data removed]",
            "text/plain": [
              "<Figure size 800x600 with 1 Axes>"
            ]
          },
          "metadata": {},
          "output_type": "display_data"
        }
      ],
      "source": [
        "#Usage vs. Product\n",
        "plt.figure(figsize=(8, 6))\n",
        "sns.barplot(x='Usage', y='Product', data=df, hue='Product')\n",
        "plt.title('Bar Plot of Usage vs Product')\n",
        "plt.show()"
      ]
    },
    {
      "cell_type": "markdown",
      "metadata": {
        "id": "r54Y_mm4zLVf"
      },
      "source": [
        "Inferences:\n",
        "\n",
        "Customers who plan to use the treadmill more frequently (4+ times per week) are more likely to purchase the KP781 (advanced) treadmill.\n",
        "\n",
        "Customers with lower planned usage (2-3 times per week) tend to favor the KP281 (entry-level) and KP481(mid-level) treadmill.\n"
      ]
    },
    {
      "cell_type": "code",
      "execution_count": null,
      "metadata": {
        "colab": {
          "background_save": true,
          "base_uri": "https://localhost:8080/",
          "height": 564
        },
        "id": "qXSFRMb4y7Mg",
        "outputId": "1b429c79-5b48-4aeb-b4e8-268a961143ec"
      },
      "outputs": [
        {
          "data": {
            "image/png": "[encoded data removed]",
            "text/plain": [
              "<Figure size 800x600 with 1 Axes>"
            ]
          },
          "metadata": {},
          "output_type": "display_data"
        }
      ],
      "source": [
        "#Fitness vs. Product\n",
        "plt.figure(figsize=(8, 6))\n",
        "sns.barplot(x='Fitness', y='Product', data=df, hue='Product')\n",
        "plt.title('Bar Plot of Fitness vs Product')\n",
        "plt.show()"
      ]
    },
    {
      "cell_type": "markdown",
      "metadata": {
        "id": "_n2yrU1fzr54"
      },
      "source": [
        "Fitness levels 0-3: Customers primarily purchased entry-level (KP281) and mid-level (KP481) treadmills.\n",
        "\n",
        "Fitness levels 3-5: Customers primarily purchased the high-end (KP781) treadmill."
      ]
    },
    {
      "cell_type": "code",
      "execution_count": null,
      "metadata": {
        "colab": {
          "background_save": true,
          "base_uri": "https://localhost:8080/",
          "height": 564
        },
        "id": "SKK4919Tzd1J",
        "outputId": "c44de24b-1aaf-49d5-fed7-798d080f2d4d"
      },
      "outputs": [
        {
          "data": {
            "image/png": "[encoded data removed]",
            "text/plain": [
              "<Figure size 800x600 with 1 Axes>"
            ]
          },
          "metadata": {},
          "output_type": "display_data"
        }
      ],
      "source": [
        "#Income vs Product\n",
        "plt.figure(figsize=(8, 6))\n",
        "sns.scatterplot(x='Income', y='Product', data=df, hue='Product')\n",
        "plt.title('Scatter Plot of Income vs Product')\n",
        "plt.show()"
      ]
    },
    {
      "cell_type": "markdown",
      "metadata": {
        "id": "wfwhj4pD8ijJ"
      },
      "source": [
        "Customers with higher incomes tend to purchase the KP781 (advanced) treadmill more frequently.\n",
        "The KP281 and KP481 are more concentrated among lower to middle-income customers."
      ]
    },
    {
      "cell_type": "code",
      "execution_count": null,
      "metadata": {
        "colab": {
          "background_save": true,
          "base_uri": "https://localhost:8080/",
          "height": 564
        },
        "id": "lLkZEa8O0D3k",
        "outputId": "8c631178-d155-4d6a-d8a8-461208a1f579"
      },
      "outputs": [
        {
          "data": {
            "image/png": "[encoded data removed]",
            "text/plain": [
              "<Figure size 800x600 with 1 Axes>"
            ]
          },
          "metadata": {},
          "output_type": "display_data"
        }
      ],
      "source": [
        "#Miles vs Product\n",
        "plt.figure(figsize=(8, 6))\n",
        "sns.barplot(x='Miles', y='Product', data=df, hue='Product')\n",
        "plt.title('Bar Plot of Miles vs Product')\n",
        "plt.show()"
      ]
    },
    {
      "cell_type": "markdown",
      "metadata": {
        "id": "A8FoWnL59KMh"
      },
      "source": [
        "Customers with higher mileage expectations tend to purchase higher-end treadmills (KP781), while those with lower mileage often opt for the entry-level KP281 and mid-level KP481."
      ]
    },
    {
      "cell_type": "markdown",
      "metadata": {
        "id": "aeYu-Id7-Gf3"
      },
      "source": [
        "# **Representing probability**"
      ]
    },
    {
      "cell_type": "markdown",
      "metadata": {
        "id": "EkG-u-uW-PgU"
      },
      "source": [
        "**Marginal Probability**\n",
        "\n",
        "Marginal probability represents the probability of a single event occurring, irrespective of other variables."
      ]
    },
    {
      "cell_type": "code",
      "execution_count": null,
      "metadata": {
        "colab": {
          "background_save": true,
          "base_uri": "https://localhost:8080/"
        },
        "id": "lts4R1ty0I5K",
        "outputId": "d57d58bf-1545-430c-ff7d-406f8d16cef1"
      },
      "outputs": [
        {
          "name": "stdout",
          "output_type": "stream",
          "text": [
            "col_0       count\n",
            "Product          \n",
            "KP281    0.444444\n",
            "KP481    0.333333\n",
            "KP781    0.222222\n"
          ]
        }
      ],
      "source": [
        "#marginal probability of customers purchasing each treadmill type (KP281, KP481, or KP781)\n",
        "product_probs = pd.crosstab(index=df['Product'], columns=\"count\", normalize=True)\n",
        "print(product_probs)\n"
      ]
    },
    {
      "cell_type": "markdown",
      "metadata": {
        "id": "8jN-yT1m-t-G"
      },
      "source": [
        "From above values, we can tell approximately 44% of customers purchased the KP281 treadmill.\n",
        "\n",
        "approximately 33% of customers purchased the KP481 treadmill.\n",
        "\n",
        "approximately 22% of customers purchased the KP781 treadmill."
      ]
    },
    {
      "cell_type": "markdown",
      "metadata": {
        "id": "bVRip5hwdAJK"
      },
      "source": [
        "**Conditional Probability**\n",
        "\n",
        "Conditional probability represents the probability of an event occurring given that another event has already occurred."
      ]
    },
    {
      "cell_type": "markdown",
      "metadata": {
        "id": "sHjPFYPhdQf8"
      },
      "source": [
        "Finding the probability of a customer purchasing each treadmill type given a specific value in another column (e.g., Gender, MaritalStatus, AgeGroup, etc.)."
      ]
    },
    {
      "cell_type": "code",
      "execution_count": null,
      "metadata": {
        "colab": {
          "background_save": true,
          "base_uri": "https://localhost:8080/",
          "height": 206
        },
        "id": "xAoHMfH5fFOJ",
        "outputId": "1c2ec682-105a-447a-df68-9577377c6563"
      },
      "outputs": [
        {
          "data": {
            "application/vnd.google.colaboratory.intrinsic+json": {
              "summary": "{\n  \"name\": \"pd\",\n  \"rows\": 4,\n  \"fields\": [\n    {\n      \"column\": \"Product\",\n      \"properties\": {\n        \"dtype\": \"string\",\n        \"num_unique_values\": 4,\n        \"samples\": [\n          \"KP481\",\n          \"Total\",\n          \"KP281\"\n        ],\n        \"semantic_type\": \"\",\n        \"description\": \"\"\n      }\n    },\n    {\n      \"column\": \"Female\",\n      \"properties\": {\n        \"dtype\": \"number\",\n        \"std\": 28,\n        \"min\": 7,\n        \"max\": 76,\n        \"num_unique_values\": 4,\n        \"samples\": [\n          29,\n          76,\n          40\n        ],\n        \"semantic_type\": \"\",\n        \"description\": \"\"\n      }\n    },\n    {\n      \"column\": \"Male\",\n      \"properties\": {\n        \"dtype\": \"number\",\n        \"std\": 34,\n        \"min\": 31,\n        \"max\": 104,\n        \"num_unique_values\": 4,\n        \"samples\": [\n          31,\n          104,\n          40\n        ],\n        \"semantic_type\": \"\",\n        \"description\": \"\"\n      }\n    },\n    {\n      \"column\": \"Total\",\n      \"properties\": {\n        \"dtype\": \"number\",\n        \"std\": 62,\n        \"min\": 40,\n        \"max\": 180,\n        \"num_unique_values\": 4,\n        \"samples\": [\n          60,\n          180,\n          80\n        ],\n        \"semantic_type\": \"\",\n        \"description\": \"\"\n      }\n    }\n  ]\n}",
              "type": "dataframe"
            },
            "text/html": [
              "\n",
              "  <div id=\"df-a39de8cf-f9d9-4a20-b4da-af40d848fea8\" class=\"colab-df-container\">\n",
              "    <div>\n",
              "<style scoped>\n",
              "    .dataframe tbody tr th:only-of-type {\n",
              "        vertical-align: middle;\n",
              "    }\n",
              "\n",
              "    .dataframe tbody tr th {\n",
              "        vertical-align: top;\n",
              "    }\n",
              "\n",
              "    .dataframe thead th {\n",
              "        text-align: right;\n",
              "    }\n",
              "</style>\n",
              "<table border=\"1\" class=\"dataframe\">\n",
              "  <thead>\n",
              "    <tr style=\"text-align: right;\">\n",
              "      <th>Gender</th>\n",
              "      <th>Female</th>\n",
              "      <th>Male</th>\n",
              "      <th>Total</th>\n",
              "    </tr>\n",
              "    <tr>\n",
              "      <th>Product</th>\n",
              "      <th></th>\n",
              "      <th></th>\n",
              "      <th></th>\n",
              "    </tr>\n",
              "  </thead>\n",
              "  <tbody>\n",
              "    <tr>\n",
              "      <th>KP281</th>\n",
              "      <td>40</td>\n",
              "      <td>40</td>\n",
              "      <td>80</td>\n",
              "    </tr>\n",
              "    <tr>\n",
              "      <th>KP481</th>\n",
              "      <td>29</td>\n",
              "      <td>31</td>\n",
              "      <td>60</td>\n",
              "    </tr>\n",
              "    <tr>\n",
              "      <th>KP781</th>\n",
              "      <td>7</td>\n",
              "      <td>33</td>\n",
              "      <td>40</td>\n",
              "    </tr>\n",
              "    <tr>\n",
              "      <th>Total</th>\n",
              "      <td>76</td>\n",
              "      <td>104</td>\n",
              "      <td>180</td>\n",
              "    </tr>\n",
              "  </tbody>\n",
              "</table>\n",
              "</div>\n",
              "    <div class=\"colab-df-buttons\">\n",
              "\n",
              "  <div class=\"colab-df-container\">\n",
              "    <button class=\"colab-df-convert\" onclick=\"convertToInteractive('df-a39de8cf-f9d9-4a20-b4da-af40d848fea8')\"\n",
              "            title=\"Convert this dataframe to an interactive table.\"\n",
              "            style=\"display:none;\">\n",
              "\n",
              "  <svg xmlns=\"http://www.w3.org/2000/svg\" height=\"24px\" viewBox=\"0 -960 960 960\">\n",
              "    <path d=\"M120-120v-720h720v720H120Zm60-500h600v-160H180v160Zm220 220h160v-160H400v160Zm0 220h160v-160H400v160ZM180-400h160v-160H180v160Zm440 0h160v-160H620v160ZM180-180h160v-160H180v160Zm440 0h160v-160H620v160Z\"/>\n",
              "  </svg>\n",
              "    </button>\n",
              "\n",
              "  <style>\n",
              "    .colab-df-container {\n",
              "      display:flex;\n",
              "      gap: 12px;\n",
              "    }\n",
              "\n",
              "    .colab-df-convert {\n",
              "      background-color: #E8F0FE;\n",
              "      border: none;\n",
              "      border-radius: 50%;\n",
              "      cursor: pointer;\n",
              "      display: none;\n",
              "      fill: #1967D2;\n",
              "      height: 32px;\n",
              "      padding: 0 0 0 0;\n",
              "      width: 32px;\n",
              "    }\n",
              "\n",
              "    .colab-df-convert:hover {\n",
              "      background-color: #E2EBFA;\n",
              "      box-shadow: 0px 1px 2px rgba(60, 64, 67, 0.3), 0px 1px 3px 1px rgba(60, 64, 67, 0.15);\n",
              "      fill: #174EA6;\n",
              "    }\n",
              "\n",
              "    .colab-df-buttons div {\n",
              "      margin-bottom: 4px;\n",
              "    }\n",
              "\n",
              "    [theme=dark] .colab-df-convert {\n",
              "      background-color: #3B4455;\n",
              "      fill: #D2E3FC;\n",
              "    }\n",
              "\n",
              "    [theme=dark] .colab-df-convert:hover {\n",
              "      background-color: #434B5C;\n",
              "      box-shadow: 0px 1px 3px 1px rgba(0, 0, 0, 0.15);\n",
              "      filter: drop-shadow(0px 1px 2px rgba(0, 0, 0, 0.3));\n",
              "      fill: #FFFFFF;\n",
              "    }\n",
              "  </style>\n",
              "\n",
              "    <script>\n",
              "      const buttonEl =\n",
              "        document.querySelector('#df-a39de8cf-f9d9-4a20-b4da-af40d848fea8 button.colab-df-convert');\n",
              "      buttonEl.style.display =\n",
              "        google.colab.kernel.accessAllowed ? 'block' : 'none';\n",
              "\n",
              "      async function convertToInteractive(key) {\n",
              "        const element = document.querySelector('#df-a39de8cf-f9d9-4a20-b4da-af40d848fea8');\n",
              "        const dataTable =\n",
              "          await google.colab.kernel.invokeFunction('convertToInteractive',\n",
              "                                                    [key], {});\n",
              "        if (!dataTable) return;\n",
              "\n",
              "        const docLinkHtml = 'Like what you see? Visit the ' +\n",
              "          '<a target=\"_blank\" href=https://colab.research.google.com/notebooks/data_table.ipynb>data table notebook</a>'\n",
              "          + ' to learn more about interactive tables.';\n",
              "        element.innerHTML = '';\n",
              "        dataTable['output_type'] = 'display_data';\n",
              "        await google.colab.output.renderOutput(dataTable, element);\n",
              "        const docLink = document.createElement('div');\n",
              "        docLink.innerHTML = docLinkHtml;\n",
              "        element.appendChild(docLink);\n",
              "      }\n",
              "    </script>\n",
              "  </div>\n",
              "\n",
              "\n",
              "<div id=\"df-7e860967-dd47-4b70-b922-17d57f564878\">\n",
              "  <button class=\"colab-df-quickchart\" onclick=\"quickchart('df-7e860967-dd47-4b70-b922-17d57f564878')\"\n",
              "            title=\"Suggest charts\"\n",
              "            style=\"display:none;\">\n",
              "\n",
              "<svg xmlns=\"http://www.w3.org/2000/svg\" height=\"24px\"viewBox=\"0 0 24 24\"\n",
              "     width=\"24px\">\n",
              "    <g>\n",
              "        <path d=\"M19 3H5c-1.1 0-2 .9-2 2v14c0 1.1.9 2 2 2h14c1.1 0 2-.9 2-2V5c0-1.1-.9-2-2-2zM9 17H7v-7h2v7zm4 0h-2V7h2v10zm4 0h-2v-4h2v4z\"/>\n",
              "    </g>\n",
              "</svg>\n",
              "  </button>\n",
              "\n",
              "<style>\n",
              "  .colab-df-quickchart {\n",
              "      --bg-color: #E8F0FE;\n",
              "      --fill-color: #1967D2;\n",
              "      --hover-bg-color: #E2EBFA;\n",
              "      --hover-fill-color: #174EA6;\n",
              "      --disabled-fill-color: #AAA;\n",
              "      --disabled-bg-color: #DDD;\n",
              "  }\n",
              "\n",
              "  [theme=dark] .colab-df-quickchart {\n",
              "      --bg-color: #3B4455;\n",
              "      --fill-color: #D2E3FC;\n",
              "      --hover-bg-color: #434B5C;\n",
              "      --hover-fill-color: #FFFFFF;\n",
              "      --disabled-bg-color: #3B4455;\n",
              "      --disabled-fill-color: #666;\n",
              "  }\n",
              "\n",
              "  .colab-df-quickchart {\n",
              "    background-color: var(--bg-color);\n",
              "    border: none;\n",
              "    border-radius: 50%;\n",
              "    cursor: pointer;\n",
              "    display: none;\n",
              "    fill: var(--fill-color);\n",
              "    height: 32px;\n",
              "    padding: 0;\n",
              "    width: 32px;\n",
              "  }\n",
              "\n",
              "  .colab-df-quickchart:hover {\n",
              "    background-color: var(--hover-bg-color);\n",
              "    box-shadow: 0 1px 2px rgba(60, 64, 67, 0.3), 0 1px 3px 1px rgba(60, 64, 67, 0.15);\n",
              "    fill: var(--button-hover-fill-color);\n",
              "  }\n",
              "\n",
              "  .colab-df-quickchart-complete:disabled,\n",
              "  .colab-df-quickchart-complete:disabled:hover {\n",
              "    background-color: var(--disabled-bg-color);\n",
              "    fill: var(--disabled-fill-color);\n",
              "    box-shadow: none;\n",
              "  }\n",
              "\n",
              "  .colab-df-spinner {\n",
              "    border: 2px solid var(--fill-color);\n",
              "    border-color: transparent;\n",
              "    border-bottom-color: var(--fill-color);\n",
              "    animation:\n",
              "      spin 1s steps(1) infinite;\n",
              "  }\n",
              "\n",
              "  @keyframes spin {\n",
              "    0% {\n",
              "      border-color: transparent;\n",
              "      border-bottom-color: var(--fill-color);\n",
              "      border-left-color: var(--fill-color);\n",
              "    }\n",
              "    20% {\n",
              "      border-color: transparent;\n",
              "      border-left-color: var(--fill-color);\n",
              "      border-top-color: var(--fill-color);\n",
              "    }\n",
              "    30% {\n",
              "      border-color: transparent;\n",
              "      border-left-color: var(--fill-color);\n",
              "      border-top-color: var(--fill-color);\n",
              "      border-right-color: var(--fill-color);\n",
              "    }\n",
              "    40% {\n",
              "      border-color: transparent;\n",
              "      border-right-color: var(--fill-color);\n",
              "      border-top-color: var(--fill-color);\n",
              "    }\n",
              "    60% {\n",
              "      border-color: transparent;\n",
              "      border-right-color: var(--fill-color);\n",
              "    }\n",
              "    80% {\n",
              "      border-color: transparent;\n",
              "      border-right-color: var(--fill-color);\n",
              "      border-bottom-color: var(--fill-color);\n",
              "    }\n",
              "    90% {\n",
              "      border-color: transparent;\n",
              "      border-bottom-color: var(--fill-color);\n",
              "    }\n",
              "  }\n",
              "</style>\n",
              "\n",
              "  <script>\n",
              "    async function quickchart(key) {\n",
              "      const quickchartButtonEl =\n",
              "        document.querySelector('#' + key + ' button');\n",
              "      quickchartButtonEl.disabled = true;  // To prevent multiple clicks.\n",
              "      quickchartButtonEl.classList.add('colab-df-spinner');\n",
              "      try {\n",
              "        const charts = await google.colab.kernel.invokeFunction(\n",
              "            'suggestCharts', [key], {});\n",
              "      } catch (error) {\n",
              "        console.error('Error during call to suggestCharts:', error);\n",
              "      }\n",
              "      quickchartButtonEl.classList.remove('colab-df-spinner');\n",
              "      quickchartButtonEl.classList.add('colab-df-quickchart-complete');\n",
              "    }\n",
              "    (() => {\n",
              "      let quickchartButtonEl =\n",
              "        document.querySelector('#df-7e860967-dd47-4b70-b922-17d57f564878 button');\n",
              "      quickchartButtonEl.style.display =\n",
              "        google.colab.kernel.accessAllowed ? 'block' : 'none';\n",
              "    })();\n",
              "  </script>\n",
              "</div>\n",
              "\n",
              "    </div>\n",
              "  </div>\n"
            ],
            "text/plain": [
              "Gender   Female  Male  Total\n",
              "Product                     \n",
              "KP281        40    40     80\n",
              "KP481        29    31     60\n",
              "KP781         7    33     40\n",
              "Total        76   104    180"
            ]
          },
          "execution_count": 186,
          "metadata": {},
          "output_type": "execute_result"
        }
      ],
      "source": [
        "pd.crosstab(index=df['Product'], columns=df['Gender'],margins=True,margins_name='Total')"
      ]
    },
    {
      "cell_type": "markdown",
      "metadata": {
        "id": "tP01ithBgQ43"
      },
      "source": [
        "From the above data, we can tell that 40 females purchased KP281 out of 76 total females.\n",
        "\n",
        "Similarly there are 33 males out of total 104 males who purchased KP781 treadmill."
      ]
    },
    {
      "cell_type": "markdown",
      "metadata": {
        "id": "w8H4NKune6p0"
      },
      "source": [
        "Instead of getting count using crosstab we can directly calculate probabilty of purchasing each treadmill, given that the customer is male or female.\n",
        "\n",
        "We can do this by passing normalize='columns' parameter to above crosstab function, which will divide each column with its coulumn's total value.\n",
        "\n",
        "If we pass normalise='index' as parameter it will divide each cell with its corresponding row total value"
      ]
    },
    {
      "cell_type": "code",
      "execution_count": null,
      "metadata": {
        "colab": {
          "background_save": true,
          "base_uri": "https://localhost:8080/"
        },
        "id": "O0RI8SP2dZbQ",
        "outputId": "d797b593-55be-4d7e-8664-ec4ae5dcc650"
      },
      "outputs": [
        {
          "name": "stdout",
          "output_type": "stream",
          "text": [
            "Probability of Product Purchase by Gender(Male/Female):\n",
            "\n",
            "Gender     Female      Male\n",
            "Product                    \n",
            "KP281    0.526316  0.384615\n",
            "KP481    0.381579  0.298077\n",
            "KP781    0.092105  0.317308\n"
          ]
        }
      ],
      "source": [
        "Product_prob_given_Gender = pd.crosstab(index=df['Product'], columns=df['Gender'], normalize='columns')\n",
        "print(f\"Probability of Product Purchase by Gender(Male/Female):\\n\\n{Product_prob_given_Gender}\")"
      ]
    },
    {
      "cell_type": "markdown",
      "metadata": {
        "id": "YOQyaXrrjI7R"
      },
      "source": [
        "By above data, we can infer that\n",
        "\n",
        "probability of purchasing KP781 given that the customer is Male is 0.32, it means that 32% of male customers purchased the KP781 treadmill.\n",
        "\n",
        "Similarly, probability of purchasing KP481 given that the customer is Female is 0.38, it means that 38% of Female customers purchased the KP481 treadmill."
      ]
    },
    {
      "cell_type": "code",
      "execution_count": null,
      "metadata": {
        "colab": {
          "background_save": true,
          "base_uri": "https://localhost:8080/"
        },
        "id": "wVmUbs34j6d2",
        "outputId": "e4f93c13-e910-4cb7-d3be-70ce7fb79a88"
      },
      "outputs": [
        {
          "name": "stdout",
          "output_type": "stream",
          "text": [
            "Probability of Product Purchase by MaritalStatus(Partnered/Single):\n",
            "\n",
            "MaritalStatus  Partnered    Single\n",
            "Product                           \n",
            "KP281           0.448598  0.438356\n",
            "KP481           0.336449  0.328767\n",
            "KP781           0.214953  0.232877\n"
          ]
        }
      ],
      "source": [
        "#Calculating probability of each treadmill, given the Marital Status of customer\n",
        "Product_prob_given_MaritalStatus = pd.crosstab(index=df['Product'], columns=df['MaritalStatus'], normalize='columns')\n",
        "print(f\"Probability of Product Purchase by MaritalStatus(Partnered/Single):\\n\\n{Product_prob_given_MaritalStatus}\")"
      ]
    },
    {
      "cell_type": "markdown",
      "metadata": {
        "id": "jctNRI-vkho9"
      },
      "source": [
        "probability of purchasing KP781 given that the customer is Single is 0.23, it means that 23% of customers whose Marital Status is Single purchased the KP781 treadmill.\n",
        "\n",
        "probability of purchasing KP281 given that the customer is Partnered is 0.44, it means that 44% of customers customers whose Marital Status is Partnered purchased the KP281 treadmill."
      ]
    },
    {
      "cell_type": "code",
      "execution_count": null,
      "metadata": {
        "colab": {
          "background_save": true,
          "base_uri": "https://localhost:8080/"
        },
        "id": "grBHvUkUnG6h",
        "outputId": "15a3f51b-c9d9-4969-dc4f-d0b96fdfc7b1"
      },
      "outputs": [
        {
          "name": "stdout",
          "output_type": "stream",
          "text": [
            "Probability of Product Purchase by AgeGroup:\n",
            "\n",
            "AgeGroup    18-24     25-34     35-44\n",
            "Product                              \n",
            "KP281     0.43038  0.438356  0.500000\n",
            "KP481     0.35443  0.328767  0.285714\n",
            "KP781     0.21519  0.232877  0.214286\n"
          ]
        }
      ],
      "source": [
        "#Calculating probability of each treadmill, given the agegroup of customer\n",
        "Product_prob_given_AgeGroup = pd.crosstab(index=df['Product'], columns=df['AgeGroup'], normalize='columns')\n",
        "print(f\"Probability of Product Purchase by AgeGroup:\\n\\n{Product_prob_given_AgeGroup}\")"
      ]
    },
    {
      "cell_type": "markdown",
      "metadata": {
        "id": "Ebk9Iwl9oC6b"
      },
      "source": [
        "Inferences:\n",
        "\n",
        "KP281 remains a popular choice across all ages.(nearly same probability across all age groups).\n",
        "\n",
        "Younger customers (18-34) show a preference for the KP481 (mid-level) treadmill.\n",
        "\n",
        "The purchase probability for the KP781 shows an interesting trend. It's relatively lower for customers aged 18-34 and 35-44 but increases significantly for the 45-50 age group (33.33%).\n"
      ]
    },
    {
      "cell_type": "markdown",
      "metadata": {
        "id": "nYQvETk6ouzb"
      },
      "source": [
        "**Finding the correlation between the given features in the table.**"
      ]
    },
    {
      "cell_type": "markdown",
      "metadata": {
        "id": "0RkF2QwupEGn"
      },
      "source": [
        "**Correlation:**\n",
        "\n",
        "Correlation measures the strength and direction of the linear relationship between two variables.\n",
        "\n",
        "It ranges from -1 to +1, where:\n",
        "\n",
        "-1 indicates a perfect negative correlation (as one variable increases, the other decreases).\n",
        "\n",
        "+1 indicates a perfect positive correlation (as one variable increases, the other also increases).\n",
        "\n",
        "0 indicates no linear correlation."
      ]
    },
    {
      "cell_type": "code",
      "execution_count": null,
      "metadata": {
        "colab": {
          "background_save": true,
          "base_uri": "https://localhost:8080/"
        },
        "id": "V8eygyUf_NAF",
        "outputId": "693d5d8f-a63f-4659-9434-69fbdff00f3f"
      },
      "outputs": [
        {
          "name": "stdout",
          "output_type": "stream",
          "text": [
            "                Age  Education     Usage   Fitness    Income     Miles\n",
            "Age        1.000000   0.301971  0.015394  0.057361  0.514362  0.029636\n",
            "Education  0.301971   1.000000  0.413600  0.441082  0.628597  0.377294\n",
            "Usage      0.015394   0.413600  1.000000  0.661978  0.481608  0.771030\n",
            "Fitness    0.057361   0.441082  0.661978  1.000000  0.546998  0.826307\n",
            "Income     0.514362   0.628597  0.481608  0.546998  1.000000  0.537297\n",
            "Miles      0.029636   0.377294  0.771030  0.826307  0.537297  1.000000\n"
          ]
        }
      ],
      "source": [
        "#Using Correlation matrix\n",
        "numerical_df = df.select_dtypes(include=['number'])\n",
        "correlation_matrix = numerical_df.corr()\n",
        "print(correlation_matrix)"
      ]
    },
    {
      "cell_type": "code",
      "execution_count": null,
      "metadata": {
        "colab": {
          "background_save": true,
          "base_uri": "https://localhost:8080/",
          "height": 699
        },
        "id": "aPJKnqEttO6N",
        "outputId": "ce54e71c-098f-4feb-ef37-8488cddfdcaa"
      },
      "outputs": [
        {
          "data": {
            "image/png": "[encoded data removed]",
            "text/plain": [
              "<Figure size 1000x800 with 2 Axes>"
            ]
          },
          "metadata": {},
          "output_type": "display_data"
        }
      ],
      "source": [
        "# Create the heatmap\n",
        "plt.figure(figsize=(10, 8))\n",
        "sns.heatmap(correlation_matrix, annot=True, cmap='coolwarm', fmt=\".2f\")\n",
        "plt.title('Correlation Matrix of Aerofit Treadmill Features')\n",
        "plt.show()"
      ]
    },
    {
      "cell_type": "markdown",
      "metadata": {
        "id": "-StOfTNqtfZ9"
      },
      "source": [
        "Inferences from above heatmap:(Correlation Matrix of Aerofit Treadmill Numerical Features)\n",
        "\n",
        "* **Strong Positive Correlations:**\n",
        "\n",
        "Fitness and Miles: (0.822393) - Customers with higher fitness levels tend to expect to run/walk more miles. This is the strongest positive correlation in the matrix.\n",
        "\n",
        "Usage and Miles: (0.786269) - Customers who plan to use the treadmill more frequently also expect to run/walk more miles.\n",
        "\n",
        "Usage and Fitness: (0.668606) - Customers who plan to use the treadmill more frequently also tend to have higher fitness levels.\n",
        "\n",
        "Education and Income: (0.628908) - Customers with higher education levels tend to have higher incomes.\n",
        "\n",
        "   \n",
        "*  **Moderate Positive Correlations:**\n",
        "\n",
        "Income and Miles: (0.537297) - Customers with higher incomes tend to expect to run/walk more miles.\n",
        "\n",
        "Income and Fitness: (0.535945) - Customers with higher incomes tend to have higher fitness levels.\n",
        "\n",
        "Income and Usage: (0.527707) - Customers with higher incomes tend to plan to use the treadmill more frequently.\n",
        "\n",
        "Education and Fitness: (0.410581) - Customers with higher education levels tend to have higher fitness levels.\n",
        "\n",
        "*   **Weak or No Correlations:**\n",
        "\n",
        "Age and Usage: (0.015064) - Age has a negligible impact on planned treadmill usage.\n",
        "\n",
        "Age and Fitness: (0.061105) - Age has a minimal impact on fitness level.\n",
        "\n",
        "Age and Miles: (0.026168) - Age has a negligible impact on expected mileage.\n",
        "\n",
        "\n"
      ]
    },
    {
      "cell_type": "markdown",
      "metadata": {
        "id": "JFe3L3TzDz1w"
      },
      "source": [
        "Finding Correlation between Each treadmill type against available numeric features"
      ]
    },
    {
      "cell_type": "markdown",
      "metadata": {
        "id": "zKZujBcBEjuO"
      },
      "source": [
        "As corr() function works with only numeric type columns, we are encoding Product column(category type) using pd.get_dummies() function.\n",
        "\n",
        "This creates three new columns: 'KP281', 'KP481', and 'KP781', with binary values (0 or 1) indicating whether a customer purchased that specific product."
      ]
    },
    {
      "cell_type": "code",
      "execution_count": null,
      "metadata": {
        "colab": {
          "background_save": true
        },
        "id": "n4AxwgWVqN0w"
      },
      "outputs": [],
      "source": [
        "#Encoded 'Product' column\n",
        "df_encoded = pd.get_dummies(df, columns=['Product'], prefix='', prefix_sep='')"
      ]
    },
    {
      "cell_type": "code",
      "execution_count": null,
      "metadata": {
        "colab": {
          "background_save": true
        },
        "id": "S_pPEm9drg_L"
      },
      "outputs": [],
      "source": [
        "#Calculation of correlation matrix\n",
        "correlation_matrix_product = df_encoded[['KP281', 'KP481', 'KP781', 'Age', 'Education', 'Usage', 'Fitness', 'Income', 'Miles']].corr()"
      ]
    },
    {
      "cell_type": "code",
      "execution_count": null,
      "metadata": {
        "colab": {
          "background_save": true,
          "base_uri": "https://localhost:8080/"
        },
        "id": "isKnGADBqxrx",
        "outputId": "34e9fd97-82d2-41b5-eb76-8df584a691e5"
      },
      "outputs": [
        {
          "name": "stdout",
          "output_type": "stream",
          "text": [
            "Correlation of KP281 with other features:\n",
            "Age         -0.029760\n",
            "Education   -0.294507\n",
            "Usage       -0.291333\n",
            "Fitness     -0.332207\n",
            "Income      -0.399793\n",
            "Miles       -0.371555\n",
            "Name: KP281, dtype: float64\n",
            "\n",
            "Correlation of KP481 with other features:\n",
            "Age          0.017630\n",
            "Education   -0.202459\n",
            "Usage       -0.245825\n",
            "Fitness     -0.306755\n",
            "Income      -0.203157\n",
            "Miles       -0.205850\n",
            "Name: KP481, dtype: float64\n",
            "\n",
            "Correlation of KP781 with other features:\n",
            "Age          0.015579\n",
            "Education    0.581570\n",
            "Usage        0.626949\n",
            "Fitness      0.744891\n",
            "Income       0.708203\n",
            "Miles        0.677504\n",
            "Name: KP781, dtype: float64\n",
            "\n"
          ]
        }
      ],
      "source": [
        "#correlation of each product with the numerical columns\n",
        "for product in ['KP281', 'KP481', 'KP781']:\n",
        "    print(f\"Correlation of {product} with other features:\\n{correlation_matrix_product[product][['Age', 'Education', 'Usage', 'Fitness', 'Income', 'Miles']]}\\n\")"
      ]
    },
    {
      "cell_type": "markdown",
      "metadata": {
        "id": "z80Jqyzqsap6"
      },
      "source": [
        "Key Insights:\n",
        "\n",
        "KP281: Primarily purchased by customers with lower education, income, fitness levels, and usage expectations.\n",
        "\n",
        "KP481: Shows a mixed pattern with weak correlations, but generally purchased by customers with lower fitness levels and usage expectations.\n",
        "\n",
        "KP781: Strongly associated with higher education, income, fitness levels, usage expectations, and expected mileage. Customers who are more serious about fitness and have higher disposable incomes tend to purchase this model."
      ]
    },
    {
      "cell_type": "markdown",
      "metadata": {
        "id": "40EHUM3xMSYO"
      },
      "source": [
        "# **Customer profiling**"
      ]
    },
    {
      "cell_type": "markdown",
      "metadata": {
        "id": "Qmdfe1JiM4Pj"
      },
      "source": [
        "Based on all above inferences,"
      ]
    },
    {
      "cell_type": "markdown",
      "metadata": {
        "id": "Fb48V-peMVof"
      },
      "source": [
        "**Customer Profile for KP281(Entry-Level Treadmill)**"
      ]
    },
    {
      "cell_type": "markdown",
      "metadata": {
        "id": "pJtqQ-XqMepL"
      },
      "source": [
        "**Age:** While age has a weak negative correlation with KP281 purchases, it's not a strong differentiating factor. This treadmill is purchased across a range of age groups but might be slightly more popular among younger customers.\n",
        "\n",
        "**Gender:** Both males and females purchase KP281, with a slightly higher proportion of males in the dataset. However, gender is not a strong predictor of KP281 purchases.\n",
        "\n",
        "**Income:** KP281 has a moderate negative correlation with income, suggesting that customers with lower incomes are more likely to purchase this model. This aligns with its positioning as an entry-level, budget-friendly option.\n",
        "\n",
        "**Education:** Customers with lower education levels are more likely to purchase KP281.\n",
        "\n",
        "**Usage and Fitness:** Customers who plan to use the treadmill less frequently and have lower fitness levels are more likely to purchase KP281.\n",
        "\n",
        "**Miles:** Customers who expect to run/walk fewer miles tend to purchase KP281.\n",
        "\n",
        "**Marital Status:** Both single and partnered customers purchase KP281, with a slightly higher proportion of partnered individuals.\n"
      ]
    },
    {
      "cell_type": "markdown",
      "metadata": {
        "id": "zlHVEsESM9HT"
      },
      "source": [
        "**Customer Profile for KP481(Mid-Level Treadmill)**"
      ]
    },
    {
      "cell_type": "markdown",
      "metadata": {
        "id": "HIrlOS0hNE1H"
      },
      "source": [
        "**Age**: Age has a very weak positive correlation with KP481 purchases, suggesting it's not a major differentiating factor. This treadmill is purchased across a range of age groups.\n",
        "\n",
        "**Gender**: Both males and females purchase KP481, with a slightly higher proportion of males. However, gender is not a strong predictor of KP481 purchases.\n",
        "\n",
        "**Income**: KP481 has a weak negative correlation with income, indicating that it's purchased by customers with a wider range of incomes compared to KP281.\n",
        "\n",
        "**Education**: Customers with varying education levels purchase KP481, though there's a slight negative correlation, suggesting a slightly lower preference among higher-educated customers.\n",
        "\n",
        "**Usage and Fitness**: KP481 is purchased by customers with varying usage and fitness levels, though there's a slight negative correlation, indicating a slightly lower preference among those with higher usage and fitness levels.\n",
        "\n",
        "**Miles**: KP481 is purchased by customers with varying mileage expectations, though there's a slight negative correlation, suggesting a slightly lower preference among those who expect to run/walk more miles.\n",
        "\n",
        "**Marital Status**: Both single and partnered customers purchase KP481, with a slightly higher proportion of partnered individuals."
      ]
    },
    {
      "cell_type": "markdown",
      "metadata": {
        "id": "7N5P-9AiNpaa"
      },
      "source": [
        "**Customer Profile for KP781 (Advanced Treadmill):**"
      ]
    },
    {
      "cell_type": "markdown",
      "metadata": {
        "id": "ZQtoriHENtch"
      },
      "source": [
        "**Age**: Age has a very weak positive correlation with KP781 purchases, indicating it's not a major differentiating factor. This treadmill is purchased across a range of age groups, with a slightly higher preference among older customers.\n",
        "\n",
        "**Gender**: KP781 has a higher purchase probability among males compared to females.\n",
        "\n",
        "**Income**: KP781 has a strong positive correlation with income, suggesting that customers with higher incomes are more likely to purchase this model. This aligns with its positioning as a premium, high-performance treadmill.\n",
        "\n",
        "**Education**: Customers with higher education levels are more likely to purchase KP781.\n",
        "\n",
        "**Usage and Fitness**: Customers who plan to use the treadmill more frequently and have higher fitness levels are more likely to purchase KP781.\n",
        "\n",
        "**Miles**: Customers who expect to run/walk more miles are more likely to purchase KP781.\n",
        "\n",
        "**Marital Status**: Both single and partnered customers purchase KP781, with a slightly higher proportion of single individuals."
      ]
    },
    {
      "cell_type": "markdown",
      "metadata": {
        "id": "dA32s1e8OHCe"
      },
      "source": [
        "# **Recommendations based on Analysis performed**"
      ]
    },
    {
      "cell_type": "markdown",
      "metadata": {
        "id": "GWNpskqyONWV"
      },
      "source": [
        "**1. Know Your Customers:**\n",
        "\n",
        "KP281: This treadmill is perfect for beginners and those on a budget. Promote its affordability and simplicity.\n",
        "\n",
        "KP481: This treadmill is a good all-around choice for people with different fitness levels. Highlight its versatility and value.\n",
        "\n",
        "KP781: This treadmill is for serious fitness enthusiasts who want the best. Emphasize its advanced features and durability.\n",
        "\n",
        "\n",
        "**2. Improve the Treadmills:**\n",
        "\n",
        "KP281: Add simple fitness tracking to help beginners monitor their progress.\n",
        "\n",
        "KP481: Include more features like incline options and personalized workouts to make it even better.\n",
        "\n",
        "KP781: Continue to add cutting-edge technology to stay ahead of the competition.\n",
        "\n",
        "\n",
        "**3. Pricing:**\n",
        "\n",
        "KP281: Keep it affordable and offer discounts to attract new customers.\n",
        "\n",
        "KP481: Price it competitively and offer payment plans to make it accessible.\n",
        "\n",
        "KP781: Maintain a premium price that reflects its high quality.\n",
        "\n",
        "\n",
        "**4. Support Your Customers:**\n",
        "\n",
        "Provide excellent customer service for everyone.\n",
        "\n",
        "Build an online community for customers to connect and share their fitness journeys.\n",
        "\n",
        "Offer personalized training programs to help customers achieve their goals."
      ]
    }
  ],
  "metadata": {
    "colab": {
      "provenance": []
    },
    "kernelspec": {
      "display_name": "Python 3",
      "name": "python3"
    },
    "language_info": {
      "name": "python"
    }
  },
  "nbformat": 4,
  "nbformat_minor": 0
}